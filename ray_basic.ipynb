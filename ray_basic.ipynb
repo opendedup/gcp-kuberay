{
 "cells": [
  {
   "cell_type": "code",
   "execution_count": 1,
   "id": "4a11be33-e2e5-4b0d-a5ea-728a13173151",
   "metadata": {},
   "outputs": [
    {
     "name": "stdout",
     "output_type": "stream",
     "text": [
      "Collecting ray==2.7.0\n",
      "  Obtaining dependency information for ray==2.7.0 from https://files.pythonhosted.org/packages/82/e9/d7d85bdc8b1b3101c760d42a63493b8b4092c9ade9dce9f8240b328e488a/ray-2.7.0-cp310-cp310-manylinux2014_x86_64.whl.metadata\n",
      "  Downloading ray-2.7.0-cp310-cp310-manylinux2014_x86_64.whl.metadata (13 kB)\n",
      "Requirement already satisfied: click>=7.0 in /home/samsilverberg/miniconda3/envs/ray/lib/python3.10/site-packages (from ray==2.7.0) (8.1.7)\n",
      "Requirement already satisfied: filelock in /home/samsilverberg/miniconda3/envs/ray/lib/python3.10/site-packages (from ray==2.7.0) (3.9.0)\n",
      "Collecting jsonschema (from ray==2.7.0)\n",
      "  Obtaining dependency information for jsonschema from https://files.pythonhosted.org/packages/0f/bf/a84bc75f069f4f156e1c0d9892fb7325945106c6ecaad9f29d24360872af/jsonschema-4.19.1-py3-none-any.whl.metadata\n",
      "  Downloading jsonschema-4.19.1-py3-none-any.whl.metadata (7.9 kB)\n",
      "Collecting msgpack<2.0.0,>=1.0.0 (from ray==2.7.0)\n",
      "  Obtaining dependency information for msgpack<2.0.0,>=1.0.0 from https://files.pythonhosted.org/packages/92/cb/fb176f840b8ead860fd7ac2060dbc26f2ccc551d5a08e590ea979de4b63a/msgpack-1.0.6-cp310-cp310-manylinux_2_17_x86_64.manylinux2014_x86_64.whl.metadata\n",
      "  Downloading msgpack-1.0.6-cp310-cp310-manylinux_2_17_x86_64.manylinux2014_x86_64.whl.metadata (9.1 kB)\n",
      "Requirement already satisfied: packaging in /home/samsilverberg/miniconda3/envs/ray/lib/python3.10/site-packages (from ray==2.7.0) (23.1)\n",
      "Requirement already satisfied: protobuf!=3.19.5,>=3.15.3 in /home/samsilverberg/miniconda3/envs/ray/lib/python3.10/site-packages (from ray==2.7.0) (4.24.3)\n",
      "Requirement already satisfied: pyyaml in /home/samsilverberg/miniconda3/envs/ray/lib/python3.10/site-packages (from ray==2.7.0) (6.0.1)\n",
      "Requirement already satisfied: aiosignal in /home/samsilverberg/miniconda3/envs/ray/lib/python3.10/site-packages (from ray==2.7.0) (1.3.1)\n",
      "Requirement already satisfied: frozenlist in /home/samsilverberg/miniconda3/envs/ray/lib/python3.10/site-packages (from ray==2.7.0) (1.4.0)\n",
      "Requirement already satisfied: requests in /home/samsilverberg/miniconda3/envs/ray/lib/python3.10/site-packages (from ray==2.7.0) (2.31.0)\n",
      "Requirement already satisfied: numpy>=1.19.3 in /home/samsilverberg/miniconda3/envs/ray/lib/python3.10/site-packages (from ray==2.7.0) (1.25.2)\n",
      "Requirement already satisfied: attrs>=22.2.0 in /home/samsilverberg/miniconda3/envs/ray/lib/python3.10/site-packages (from jsonschema->ray==2.7.0) (23.1.0)\n",
      "Collecting jsonschema-specifications>=2023.03.6 (from jsonschema->ray==2.7.0)\n",
      "  Obtaining dependency information for jsonschema-specifications>=2023.03.6 from https://files.pythonhosted.org/packages/1c/24/83349ac2189cc2435e84da3f69ba3c97314d3c0622628e55171c6798ed80/jsonschema_specifications-2023.7.1-py3-none-any.whl.metadata\n",
      "  Downloading jsonschema_specifications-2023.7.1-py3-none-any.whl.metadata (2.8 kB)\n",
      "Collecting referencing>=0.28.4 (from jsonschema->ray==2.7.0)\n",
      "  Obtaining dependency information for referencing>=0.28.4 from https://files.pythonhosted.org/packages/be/8e/56d6f1e2d591f4d6cbcba446cac4a1b0dc4f584537e2071d9bcee8eeab6b/referencing-0.30.2-py3-none-any.whl.metadata\n",
      "  Downloading referencing-0.30.2-py3-none-any.whl.metadata (2.6 kB)\n",
      "Collecting rpds-py>=0.7.1 (from jsonschema->ray==2.7.0)\n",
      "  Obtaining dependency information for rpds-py>=0.7.1 from https://files.pythonhosted.org/packages/2e/b5/bb6d90878ef8df7df279af68379266285eff135dfa7fe9985e19e10b1a43/rpds_py-0.10.3-cp310-cp310-manylinux_2_17_x86_64.manylinux2014_x86_64.whl.metadata\n",
      "  Downloading rpds_py-0.10.3-cp310-cp310-manylinux_2_17_x86_64.manylinux2014_x86_64.whl.metadata (3.7 kB)\n",
      "Requirement already satisfied: charset-normalizer<4,>=2 in /home/samsilverberg/miniconda3/envs/ray/lib/python3.10/site-packages (from requests->ray==2.7.0) (3.2.0)\n",
      "Requirement already satisfied: idna<4,>=2.5 in /home/samsilverberg/miniconda3/envs/ray/lib/python3.10/site-packages (from requests->ray==2.7.0) (3.4)\n",
      "Requirement already satisfied: urllib3<3,>=1.21.1 in /home/samsilverberg/miniconda3/envs/ray/lib/python3.10/site-packages (from requests->ray==2.7.0) (2.0.5)\n",
      "Requirement already satisfied: certifi>=2017.4.17 in /home/samsilverberg/miniconda3/envs/ray/lib/python3.10/site-packages (from requests->ray==2.7.0) (2023.7.22)\n",
      "Downloading ray-2.7.0-cp310-cp310-manylinux2014_x86_64.whl (62.5 MB)\n",
      "\u001b[2K   \u001b[90m━━━━━━━━━━━━━━━━━━━━━━━━━━━━━━━━━━━━━━━━\u001b[0m \u001b[32m62.5/62.5 MB\u001b[0m \u001b[31m27.1 MB/s\u001b[0m eta \u001b[36m0:00:00\u001b[0m:00:01\u001b[0m00:01\u001b[0m\n",
      "\u001b[?25hDownloading msgpack-1.0.6-cp310-cp310-manylinux_2_17_x86_64.manylinux2014_x86_64.whl (530 kB)\n",
      "\u001b[2K   \u001b[90m━━━━━━━━━━━━━━━━━━━━━━━━━━━━━━━━━━━━━━━━\u001b[0m \u001b[32m530.8/530.8 kB\u001b[0m \u001b[31m65.4 MB/s\u001b[0m eta \u001b[36m0:00:00\u001b[0m\n",
      "\u001b[?25hDownloading jsonschema-4.19.1-py3-none-any.whl (83 kB)\n",
      "\u001b[2K   \u001b[90m━━━━━━━━━━━━━━━━━━━━━━━━━━━━━━━━━━━━━━━━\u001b[0m \u001b[32m83.3/83.3 kB\u001b[0m \u001b[31m23.4 MB/s\u001b[0m eta \u001b[36m0:00:00\u001b[0m\n",
      "\u001b[?25hDownloading jsonschema_specifications-2023.7.1-py3-none-any.whl (17 kB)\n",
      "Downloading referencing-0.30.2-py3-none-any.whl (25 kB)\n",
      "Downloading rpds_py-0.10.3-cp310-cp310-manylinux_2_17_x86_64.manylinux2014_x86_64.whl (1.2 MB)\n",
      "\u001b[2K   \u001b[90m━━━━━━━━━━━━━━━━━━━━━━━━━━━━━━━━━━━━━━━━\u001b[0m \u001b[32m1.2/1.2 MB\u001b[0m \u001b[31m91.7 MB/s\u001b[0m eta \u001b[36m0:00:00\u001b[0m\n",
      "\u001b[?25hInstalling collected packages: rpds-py, msgpack, referencing, jsonschema-specifications, jsonschema, ray\n",
      "Successfully installed jsonschema-4.19.1 jsonschema-specifications-2023.7.1 msgpack-1.0.6 ray-2.7.0 referencing-0.30.2 rpds-py-0.10.3\n"
     ]
    }
   ],
   "source": [
    "!pip install \"ray==2.7.0\""
   ]
  },
  {
   "cell_type": "code",
   "execution_count": 2,
   "id": "91cc56a4-de5d-43ca-bb5b-ebcaf175a7ad",
   "metadata": {},
   "outputs": [
    {
     "name": "stderr",
     "output_type": "stream",
     "text": [
      "/home/samsilverberg/miniconda3/envs/ray/lib/python3.10/site-packages/tqdm/auto.py:21: TqdmWarning: IProgress not found. Please update jupyter and ipywidgets. See https://ipywidgets.readthedocs.io/en/stable/user_install.html\n",
      "  from .autonotebook import tqdm as notebook_tqdm\n"
     ]
    }
   ],
   "source": [
    "from axolotl.utils.data import prepare_dataset\n",
    "from axolotl.utils.config import normalize_config, validate_config\n",
    "from axolotl.utils.dict import DictDefault\n",
    "from axolotl.utils.models import load_tokenizer\n",
    "import yaml"
   ]
  },
  {
   "cell_type": "code",
   "execution_count": 5,
   "id": "aabf66fa-74d5-4d01-a374-95b1dc043ecd",
   "metadata": {},
   "outputs": [
    {
     "name": "stderr",
     "output_type": "stream",
     "text": [
      "`pad_to_sequence_len: true` is recommended when using sample_packing\n",
      "Special tokens have been added in the vocabulary, make sure the associated word embeddings are fine-tuned or trained.\n",
      "Map (num_proc=4): 100%|██████████| 31650/31650 [02:50<00:00, 185.73 examples/s]\n",
      "Saving the dataset (3/3 shards): 100%|██████████| 31650/31650 [00:01<00:00, 20174.33 examples/s]\n",
      "Filter (num_proc=4): 100%|██████████| 31333/31333 [00:54<00:00, 576.17 examples/s]\n",
      "Filter (num_proc=4): 100%|██████████| 317/317 [00:00<00:00, 467.72 examples/s]\n",
      "Map (num_proc=4): 100%|██████████| 31123/31123 [00:30<00:00, 1004.30 examples/s]\n",
      "Map (num_proc=4): 100%|██████████| 317/317 [00:00<00:00, 687.39 examples/s]\n"
     ]
    }
   ],
   "source": [
    "config = \"configs/relora.yaml\"\n",
    "\n",
    "with open(config, encoding=\"utf-8\") as file:\n",
    "    cfg: DictDefault = DictDefault(yaml.safe_load(file))\n",
    "\n",
    "validate_config(cfg)\n",
    "\n",
    "normalize_config(cfg)\n",
    "tokenizer = load_tokenizer(cfg)\n",
    "train_dataset, eval_dataset, total_num_steps = prepare_dataset(cfg, tokenizer)"
   ]
  },
  {
   "cell_type": "code",
   "execution_count": 6,
   "id": "5d2902ce-f9b6-4064-a485-6254614a16e7",
   "metadata": {},
   "outputs": [
    {
     "name": "stdout",
     "output_type": "stream",
     "text": [
      "109970\n"
     ]
    }
   ],
   "source": [
    "print(total_num_steps)"
   ]
  },
  {
   "cell_type": "code",
   "execution_count": 3,
   "id": "548d4187",
   "metadata": {},
   "outputs": [],
   "source": [
    "import sys\n",
    "import time\n",
    "from collections import Counter\n",
    "\n",
    "import ray"
   ]
  },
  {
   "cell_type": "code",
   "execution_count": null,
   "id": "15e580a8-b0ad-44c8-af0e-2f0e6a194cef",
   "metadata": {},
   "outputs": [],
   "source": [
    "ray.shutdown()"
   ]
  },
  {
   "cell_type": "code",
   "execution_count": 4,
   "id": "bebfa923-a38f-40ed-816b-50a8e5b4fae0",
   "metadata": {},
   "outputs": [],
   "source": [
    "@ray.remote\n",
    "def gethostname(x):\n",
    "    import platform\n",
    "    import time\n",
    "\n",
    "    time.sleep(0.01)\n",
    "    return x + (platform.node(),)\n",
    "\n",
    "\n",
    "def wait_for_nodes(expected):\n",
    "    # Wait for all nodes to join the cluster.\n",
    "    while True:\n",
    "        resources = ray.cluster_resources()\n",
    "        node_keys = [key for key in resources if \"node\" in key]\n",
    "        num_nodes = sum(resources[node_key] for node_key in node_keys)\n",
    "        if num_nodes < expected:\n",
    "            print(\n",
    "                \"{} nodes have joined so far, waiting for {} more.\".format(\n",
    "                    num_nodes, expected - num_nodes\n",
    "                )\n",
    "            )\n",
    "            sys.stdout.flush()\n",
    "            time.sleep(1)\n",
    "        else:\n",
    "            break\n",
    "\n",
    "\n",
    "def main():\n",
    "    wait_for_nodes(2)\n",
    "\n",
    "    # Check that objects can be transferred from each node to each other node.\n",
    "    for i in range(10):\n",
    "        print(\"Iteration {}\".format(i))\n",
    "        results = [gethostname.remote(gethostname.remote(())) for _ in range(100)]\n",
    "        print(Counter(ray.get(results)))\n",
    "        sys.stdout.flush()\n",
    "\n",
    "    print(\"Success!\")\n",
    "    sys.stdout.flush()"
   ]
  },
  {
   "cell_type": "code",
   "execution_count": 5,
   "id": "91e78021-f57a-4da2-a5ce-b17fe9bb0794",
   "metadata": {},
   "outputs": [],
   "source": [
    "runtime_env = {\n",
    "    \"pip\": [\n",
    "            \"accelerate>=0.16.0\",\n",
    "            \"transformers>=4.26.0\",\n",
    "            \"tokenizers>=0.13.3\",\n",
    "            \"numpy<1.24\",  # remove when mlflow updates beyond 2.2\n",
    "            \"torch\",\n",
    "    ],\n",
    "    \"env_vars\": {\"HUGGING_FACE_HUB_TOKEN\": \"key\"}\n",
    "}"
   ]
  },
  {
   "cell_type": "code",
   "execution_count": 6,
   "id": "48962575-a112-4737-bb10-c75f43fdee79",
   "metadata": {},
   "outputs": [
    {
     "data": {
      "application/vnd.jupyter.widget-view+json": {
       "model_id": "0400fcd796814392a7af749f3ca4745d",
       "version_major": 2,
       "version_minor": 0
      },
      "text/html": [
       "<div class=\"lm-Widget p-Widget lm-Panel p-Panel jp-Cell-outputWrapper\">\n",
       "    <div style=\"margin-left: 50px;display: flex;flex-direction: row;align-items: center\">\n",
       "        <div class=\"jp-RenderedHTMLCommon\" style=\"display: flex; flex-direction: row;\">\n",
       "  <svg viewBox=\"0 0 567 224\" fill=\"none\" xmlns=\"http://www.w3.org/2000/svg\" style=\"height: 3em;\">\n",
       "    <g clip-path=\"url(#clip0_4338_178347)\">\n",
       "        <path d=\"M341.29 165.561H355.29L330.13 129.051C345.63 123.991 354.21 112.051 354.21 94.2307C354.21 71.3707 338.72 58.1807 311.88 58.1807H271V165.561H283.27V131.661H311.8C314.25 131.661 316.71 131.501 319.01 131.351L341.25 165.561H341.29ZM283.29 119.851V70.0007H311.82C331.3 70.0007 342.34 78.2907 342.34 94.5507C342.34 111.271 331.34 119.861 311.82 119.861L283.29 119.851ZM451.4 138.411L463.4 165.561H476.74L428.74 58.1807H416L367.83 165.561H380.83L392.83 138.411H451.4ZM446.19 126.601H398L422 72.1407L446.24 126.601H446.19ZM526.11 128.741L566.91 58.1807H554.35L519.99 114.181L485.17 58.1807H472.44L514.01 129.181V165.541H526.13V128.741H526.11Z\" fill=\"var(--jp-ui-font-color0)\"/>\n",
       "        <path d=\"M82.35 104.44C84.0187 97.8827 87.8248 92.0678 93.1671 87.9146C98.5094 83.7614 105.083 81.5067 111.85 81.5067C118.617 81.5067 125.191 83.7614 130.533 87.9146C135.875 92.0678 139.681 97.8827 141.35 104.44H163.75C164.476 101.562 165.622 98.8057 167.15 96.2605L127.45 56.5605C121.071 60.3522 113.526 61.6823 106.235 60.3005C98.9443 58.9187 92.4094 54.9203 87.8602 49.0574C83.3109 43.1946 81.0609 35.8714 81.5332 28.4656C82.0056 21.0599 85.1679 14.0819 90.4252 8.8446C95.6824 3.60726 102.672 0.471508 110.08 0.0272655C117.487 -0.416977 124.802 1.86091 130.647 6.4324C136.493 11.0039 140.467 17.5539 141.821 24.8501C143.175 32.1463 141.816 39.6859 138 46.0505L177.69 85.7505C182.31 82.9877 187.58 81.4995 192.962 81.4375C198.345 81.3755 203.648 82.742 208.33 85.3976C213.012 88.0532 216.907 91.9029 219.616 96.5544C222.326 101.206 223.753 106.492 223.753 111.875C223.753 117.258 222.326 122.545 219.616 127.197C216.907 131.848 213.012 135.698 208.33 138.353C203.648 141.009 198.345 142.375 192.962 142.313C187.58 142.251 182.31 140.763 177.69 138L138 177.7C141.808 184.071 143.155 191.614 141.79 198.91C140.424 206.205 136.44 212.75 130.585 217.313C124.731 221.875 117.412 224.141 110.004 223.683C102.596 223.226 95.6103 220.077 90.3621 214.828C85.1139 209.58 81.9647 202.595 81.5072 195.187C81.0497 187.779 83.3154 180.459 87.878 174.605C92.4405 168.751 98.9853 164.766 106.281 163.401C113.576 162.035 121.119 163.383 127.49 167.19L167.19 127.49C165.664 124.941 164.518 122.182 163.79 119.3H141.39C139.721 125.858 135.915 131.673 130.573 135.826C125.231 139.98 118.657 142.234 111.89 142.234C105.123 142.234 98.5494 139.98 93.2071 135.826C87.8648 131.673 84.0587 125.858 82.39 119.3H60C58.1878 126.495 53.8086 132.78 47.6863 136.971C41.5641 141.163 34.1211 142.972 26.7579 142.059C19.3947 141.146 12.6191 137.574 7.70605 132.014C2.79302 126.454 0.0813599 119.29 0.0813599 111.87C0.0813599 104.451 2.79302 97.2871 7.70605 91.7272C12.6191 86.1673 19.3947 82.5947 26.7579 81.6817C34.1211 80.7686 41.5641 82.5781 47.6863 86.7696C53.8086 90.9611 58.1878 97.2456 60 104.44H82.35ZM100.86 204.32C103.407 206.868 106.759 208.453 110.345 208.806C113.93 209.159 117.527 208.258 120.522 206.256C123.517 204.254 125.725 201.276 126.771 197.828C127.816 194.38 127.633 190.677 126.253 187.349C124.874 184.021 122.383 181.274 119.205 179.577C116.027 177.88 112.359 177.337 108.826 178.042C105.293 178.746 102.113 180.654 99.8291 183.44C97.5451 186.226 96.2979 189.718 96.3 193.32C96.2985 195.364 96.7006 197.388 97.4831 199.275C98.2656 201.163 99.4132 202.877 100.86 204.32ZM204.32 122.88C206.868 120.333 208.453 116.981 208.806 113.396C209.159 109.811 208.258 106.214 206.256 103.219C204.254 100.223 201.275 98.0151 197.827 96.97C194.38 95.9249 190.676 96.1077 187.348 97.4873C184.02 98.8669 181.274 101.358 179.577 104.536C177.879 107.714 177.337 111.382 178.041 114.915C178.746 118.448 180.653 121.627 183.439 123.911C186.226 126.195 189.717 127.443 193.32 127.44C195.364 127.443 197.388 127.042 199.275 126.259C201.163 125.476 202.878 124.328 204.32 122.88ZM122.88 19.4205C120.333 16.8729 116.981 15.2876 113.395 14.9347C109.81 14.5817 106.213 15.483 103.218 17.4849C100.223 19.4868 98.0146 22.4654 96.9696 25.9131C95.9245 29.3608 96.1073 33.0642 97.4869 36.3922C98.8665 39.7202 101.358 42.4668 104.535 44.1639C107.713 45.861 111.381 46.4036 114.914 45.6992C118.447 44.9949 121.627 43.0871 123.911 40.301C126.195 37.515 127.442 34.0231 127.44 30.4205C127.44 28.3772 127.038 26.3539 126.255 24.4664C125.473 22.5788 124.326 20.8642 122.88 19.4205ZM19.42 100.86C16.8725 103.408 15.2872 106.76 14.9342 110.345C14.5813 113.93 15.4826 117.527 17.4844 120.522C19.4863 123.518 22.4649 125.726 25.9127 126.771C29.3604 127.816 33.0638 127.633 36.3918 126.254C39.7198 124.874 42.4664 122.383 44.1635 119.205C45.8606 116.027 46.4032 112.359 45.6988 108.826C44.9944 105.293 43.0866 102.114 40.3006 99.8296C37.5145 97.5455 34.0227 96.2983 30.42 96.3005C26.2938 96.3018 22.337 97.9421 19.42 100.86ZM100.86 100.86C98.3125 103.408 96.7272 106.76 96.3742 110.345C96.0213 113.93 96.9226 117.527 98.9244 120.522C100.926 123.518 103.905 125.726 107.353 126.771C110.8 127.816 114.504 127.633 117.832 126.254C121.16 124.874 123.906 122.383 125.604 119.205C127.301 116.027 127.843 112.359 127.139 108.826C126.434 105.293 124.527 102.114 121.741 99.8296C118.955 97.5455 115.463 96.2983 111.86 96.3005C109.817 96.299 107.793 96.701 105.905 97.4835C104.018 98.2661 102.303 99.4136 100.86 100.86Z\" fill=\"#00AEEF\"/>\n",
       "    </g>\n",
       "    <defs>\n",
       "        <clipPath id=\"clip0_4338_178347\">\n",
       "            <rect width=\"566.93\" height=\"223.75\" fill=\"white\"/>\n",
       "        </clipPath>\n",
       "    </defs>\n",
       "  </svg>\n",
       "</div>\n",
       "\n",
       "        <table class=\"jp-RenderedHTMLCommon\" style=\"border-collapse: collapse;color: var(--jp-ui-font-color1);font-size: var(--jp-ui-font-size1);\">\n",
       "    <tr>\n",
       "        <td style=\"text-align: left\"><b>Python version:</b></td>\n",
       "        <td style=\"text-align: left\"><b>3.10.8</b></td>\n",
       "    </tr>\n",
       "    <tr>\n",
       "        <td style=\"text-align: left\"><b>Ray version:</b></td>\n",
       "        <td style=\"text-align: left\"><b>3.0.0.dev0</b></td>\n",
       "    </tr>\n",
       "    <tr>\n",
       "    <td style=\"text-align: left\"><b>Dashboard:</b></td>\n",
       "    <td style=\"text-align: left\"><b><a href=\"http://10.3.5.35:8265\" target=\"_blank\">http://10.3.5.35:8265</a></b></td>\n",
       "</tr>\n",
       "\n",
       "</table>\n",
       "\n",
       "    </div>\n",
       "</div>\n"
      ],
      "text/plain": [
       "ClientContext(dashboard_url='10.3.5.35:8265', python_version='3.10.8', ray_version='3.0.0.dev0', ray_commit='f2eaea027f3744c3008c1a6b7ed6553c46de250b', protocol_version='2023-06-27', _num_clients=1, _context_to_restore=<ray.util.client._ClientContext object at 0x7f3a2076a6b0>)"
      ]
     },
     "execution_count": 6,
     "metadata": {},
     "output_type": "execute_result"
    }
   ],
   "source": [
    "ray.init(\"ray://10.3.5.35:10001\",runtime_env=runtime_env)\n"
   ]
  },
  {
   "cell_type": "code",
   "execution_count": 8,
   "id": "86760c97-1f20-4459-ba6a-4f1e3bbca713",
   "metadata": {},
   "outputs": [],
   "source": [
    "from ray import serve"
   ]
  },
  {
   "cell_type": "code",
   "execution_count": 7,
   "id": "e634c246-5aa6-42ba-bc29-468377b95b7c",
   "metadata": {},
   "outputs": [
    {
     "name": "stdout",
     "output_type": "stream",
     "text": [
      "Iteration 0\n",
      "Counter({('raycluster-kuberay-worker-workergroup-8kcp4', 'raycluster-kuberay-worker-workergroup-8kcp4'): 100})\n",
      "Iteration 1\n",
      "Counter({('raycluster-kuberay-worker-workergroup-8kcp4', 'raycluster-kuberay-worker-workergroup-8kcp4'): 100})\n",
      "Iteration 2\n",
      "Counter({('raycluster-kuberay-worker-workergroup-8kcp4', 'raycluster-kuberay-worker-workergroup-8kcp4'): 75, ('raycluster-kuberay-worker-workergroup-8kcp4', 'raycluster-kuberay-head-bkw8t'): 15, ('raycluster-kuberay-head-bkw8t', 'raycluster-kuberay-worker-workergroup-8kcp4'): 9, ('raycluster-kuberay-head-bkw8t', 'raycluster-kuberay-head-bkw8t'): 1})\n",
      "Iteration 3\n",
      "Counter({('raycluster-kuberay-worker-workergroup-8kcp4', 'raycluster-kuberay-worker-workergroup-8kcp4'): 58, ('raycluster-kuberay-worker-workergroup-8kcp4', 'raycluster-kuberay-head-bkw8t'): 29, ('raycluster-kuberay-head-bkw8t', 'raycluster-kuberay-worker-workergroup-8kcp4'): 12, ('raycluster-kuberay-head-bkw8t', 'raycluster-kuberay-head-bkw8t'): 1})\n",
      "Iteration 4\n",
      "Counter({('raycluster-kuberay-worker-workergroup-8kcp4', 'raycluster-kuberay-worker-workergroup-8kcp4'): 72, ('raycluster-kuberay-worker-workergroup-8kcp4', 'raycluster-kuberay-head-bkw8t'): 17, ('raycluster-kuberay-head-bkw8t', 'raycluster-kuberay-worker-workergroup-8kcp4'): 8, ('raycluster-kuberay-head-bkw8t', 'raycluster-kuberay-head-bkw8t'): 3})\n",
      "Iteration 5\n",
      "Counter({('raycluster-kuberay-worker-workergroup-8kcp4', 'raycluster-kuberay-worker-workergroup-8kcp4'): 57, ('raycluster-kuberay-worker-workergroup-8kcp4', 'raycluster-kuberay-head-bkw8t'): 25, ('raycluster-kuberay-head-bkw8t', 'raycluster-kuberay-worker-workergroup-8kcp4'): 17, ('raycluster-kuberay-head-bkw8t', 'raycluster-kuberay-head-bkw8t'): 1})\n",
      "Iteration 6\n",
      "Counter({('raycluster-kuberay-worker-workergroup-8kcp4', 'raycluster-kuberay-worker-workergroup-8kcp4'): 68, ('raycluster-kuberay-worker-workergroup-8kcp4', 'raycluster-kuberay-head-bkw8t'): 13, ('raycluster-kuberay-head-bkw8t', 'raycluster-kuberay-worker-workergroup-8kcp4'): 11, ('raycluster-kuberay-head-bkw8t', 'raycluster-kuberay-head-bkw8t'): 8})\n",
      "Iteration 7\n",
      "Counter({('raycluster-kuberay-worker-workergroup-8kcp4', 'raycluster-kuberay-worker-workergroup-8kcp4'): 72, ('raycluster-kuberay-worker-workergroup-8kcp4', 'raycluster-kuberay-head-bkw8t'): 15, ('raycluster-kuberay-head-bkw8t', 'raycluster-kuberay-head-bkw8t'): 10, ('raycluster-kuberay-head-bkw8t', 'raycluster-kuberay-worker-workergroup-8kcp4'): 3})\n",
      "Iteration 8\n",
      "Counter({('raycluster-kuberay-worker-workergroup-8kcp4', 'raycluster-kuberay-worker-workergroup-8kcp4'): 66, ('raycluster-kuberay-worker-workergroup-8kcp4', 'raycluster-kuberay-head-bkw8t'): 16, ('raycluster-kuberay-head-bkw8t', 'raycluster-kuberay-worker-workergroup-8kcp4'): 11, ('raycluster-kuberay-head-bkw8t', 'raycluster-kuberay-head-bkw8t'): 7})\n",
      "Iteration 9\n",
      "Counter({('raycluster-kuberay-worker-workergroup-8kcp4', 'raycluster-kuberay-worker-workergroup-8kcp4'): 67, ('raycluster-kuberay-worker-workergroup-8kcp4', 'raycluster-kuberay-head-bkw8t'): 23, ('raycluster-kuberay-head-bkw8t', 'raycluster-kuberay-head-bkw8t'): 8, ('raycluster-kuberay-head-bkw8t', 'raycluster-kuberay-worker-workergroup-8kcp4'): 2})\n",
      "Success!\n"
     ]
    }
   ],
   "source": [
    "main()"
   ]
  },
  {
   "cell_type": "code",
   "execution_count": 9,
   "id": "f563c639-2c49-451d-bf2c-bf1a4744763c",
   "metadata": {},
   "outputs": [],
   "source": [
    "import pandas as pd\n",
    "\n",
    "\n",
    "from starlette.requests import Request\n",
    "\n",
    "\n",
    "@serve.deployment(ray_actor_options={\"num_gpus\": 8,\"num_cpus\":32})\n",
    "class PredictDeployment:\n",
    "    def __init__(self, model_id: str, revision: str = None):\n",
    "        from transformers import AutoModelForCausalLM, AutoTokenizer\n",
    "        import torch\n",
    "\n",
    "        self.model = AutoModelForCausalLM.from_pretrained(\n",
    "            model_id,\n",
    "            revision=revision,\n",
    "            torch_dtype=torch.float16,\n",
    "            low_cpu_mem_usage=True,\n",
    "            device_map=\"auto\",  # automatically makes use of all GPUs available to the Actor\n",
    "        )\n",
    "        self.tokenizer = AutoTokenizer.from_pretrained(model_id)\n",
    "\n",
    "    def generate(self, text: str) -> pd.DataFrame:\n",
    "        input_ids = self.tokenizer(text, return_tensors=\"pt\").input_ids.to(\n",
    "            self.model.device\n",
    "        )\n",
    "\n",
    "        gen_tokens = self.model.generate(\n",
    "            input_ids,\n",
    "            do_sample=True,\n",
    "            temperature=0.9,\n",
    "            max_length=100,\n",
    "        )\n",
    "        return pd.DataFrame(\n",
    "            self.tokenizer.batch_decode(gen_tokens), columns=[\"responses\"]\n",
    "        )\n",
    "\n",
    "    async def __call__(self, http_request: Request) -> str:\n",
    "        json_request: str = await http_request.json()\n",
    "        prompts = []\n",
    "        for prompt in json_request:\n",
    "            text = prompt[\"text\"]\n",
    "            if isinstance(text, list):\n",
    "                prompts.extend(text)\n",
    "            else:\n",
    "                prompts.append(text)\n",
    "        return self.generate(prompts)"
   ]
  },
  {
   "cell_type": "code",
   "execution_count": 10,
   "id": "a0e95920-4e2a-48d0-a981-b18ccfaa0d65",
   "metadata": {},
   "outputs": [],
   "source": [
    "model_id = \"WizardLM/WizardCoder-Python-34B-V1.0\"\n",
    "revision = \"float16\"  # use float16 weights to fit in 16GB GPUs\n",
    "prompt = (\n",
    "    \"In a shocking finding, scientists discovered a herd of unicorns living in a remote, \"\n",
    "    \"previously unexplored valley, in the Andes Mountains. Even more surprising to the \"\n",
    "    \"researchers was the fact that the unicorns spoke perfect English.\"\n",
    ")"
   ]
  },
  {
   "cell_type": "code",
   "execution_count": 29,
   "id": "637bc25b-64b7-446a-a011-10e062ed70cd",
   "metadata": {},
   "outputs": [
    {
     "name": "stderr",
     "output_type": "stream",
     "text": [
      "\u001b[2m\u001b[36m(HTTPProxyActor pid=4344)\u001b[0m INFO 2023-09-26 12:54:25,843 http_proxy 10.3.5.35 http_proxy.py:1418 - Proxy actor 56dab9230021cb885d2b3ec207000000 starting on node 3bf9415e44d2577899f62db907c9953a08a2dfa0202a744f4f90f0d1.\n",
      "\u001b[2m\u001b[36m(HTTPProxyActor pid=4344)\u001b[0m INFO 2023-09-26 12:54:25,855 http_proxy 10.3.5.35 http_proxy.py:1603 - Starting HTTP server on node: 3bf9415e44d2577899f62db907c9953a08a2dfa0202a744f4f90f0d1 listening on port 8000\n",
      "\u001b[2m\u001b[36m(HTTPProxyActor pid=4344)\u001b[0m INFO:     Started server process [4344]\n"
     ]
    }
   ],
   "source": [
    "ray.serve.start(http_options={\n",
    "\"host\":\"0.0.0.0\"\n",
    "})"
   ]
  },
  {
   "cell_type": "code",
   "execution_count": 23,
   "id": "4bd60620-2528-4611-89a6-70a5b3dfdde2",
   "metadata": {},
   "outputs": [
    {
     "name": "stderr",
     "output_type": "stream",
     "text": [
      "The new client HTTP config differs from the existing one in the following fields: ['host', 'location']. The new HTTP config is ignored.\n",
      "\u001b[2m\u001b[36m(ServeController pid=4095)\u001b[0m INFO 2023-09-26 12:51:02,846 controller 4095 deployment_state.py:1389 - Deploying new version of deployment PredictDeployment in application 'default'.\n",
      "\u001b[2m\u001b[36m(ServeController pid=4095)\u001b[0m INFO 2023-09-26 12:51:02,950 controller 4095 deployment_state.py:1678 - Adding 1 replica to deployment PredictDeployment in application 'default'.\n",
      "\u001b[2m\u001b[36m(ServeReplica:default:PredictDeployment pid=21154, ip=10.3.0.3)\u001b[0m 2023-09-26 12:51:09.108708: W tensorflow/compiler/xla/stream_executor/platform/default/dso_loader.cc:64] Could not load dynamic library 'libnvinfer.so.7'; dlerror: libnvinfer.so.7: cannot open shared object file: No such file or directory; LD_LIBRARY_PATH: /usr/local/nvidia/lib:/usr/local/nvidia/lib64\n",
      "\u001b[2m\u001b[36m(ServeReplica:default:PredictDeployment pid=21154, ip=10.3.0.3)\u001b[0m 2023-09-26 12:51:09.108806: W tensorflow/compiler/xla/stream_executor/platform/default/dso_loader.cc:64] Could not load dynamic library 'libnvinfer_plugin.so.7'; dlerror: libnvinfer_plugin.so.7: cannot open shared object file: No such file or directory; LD_LIBRARY_PATH: /usr/local/nvidia/lib:/usr/local/nvidia/lib64\n",
      "\u001b[2m\u001b[36m(ServeReplica:default:PredictDeployment pid=21154, ip=10.3.0.3)\u001b[0m 2023-09-26 12:51:09.108816: W tensorflow/compiler/tf2tensorrt/utils/py_utils.cc:38] TF-TRT Warning: Cannot dlopen some TensorRT libraries. If you would like to use Nvidia GPU with TensorRT, please make sure the missing libraries mentioned above are installed properly.\n",
      "\u001b[2m\u001b[36m(ServeReplica:default:PredictDeployment pid=21154, ip=10.3.0.3)\u001b[0m comet_ml is installed but `COMET_API_KEY` is not set.\n",
      "\u001b[2m\u001b[36m(ServeReplica:default:PredictDeployment pid=21154, ip=10.3.0.3)\u001b[0m The model weights are not tied. Please use the `tie_weights` method before using the `infer_auto_device` function.\n",
      "Loading checkpoint shards:   0%|          | 0/7 [00:00<?, ?it/s]0.3.0.3)\u001b[0m \n",
      "Loading checkpoint shards:  14%|█▍        | 1/7 [00:05<00:35,  5.89s/it]\u001b[0m \n",
      "Loading checkpoint shards:  29%|██▊       | 2/7 [00:11<00:29,  5.81s/it]\u001b[0m \n",
      "Loading checkpoint shards:  43%|████▎     | 3/7 [00:17<00:23,  5.80s/it]\u001b[0m \n",
      "\u001b[2m\u001b[36m(ServeController pid=4095)\u001b[0m WARNING 2023-09-26 12:51:33,049 controller 4095 deployment_state.py:2007 - Deployment 'PredictDeployment' in application 'default' has 1 replicas that have taken more than 30s to initialize. This may be caused by a slow __init__ or reconfigure method.\n",
      "Loading checkpoint shards:  57%|█████▋    | 4/7 [00:23<00:17,  5.79s/it]\u001b[0m \n",
      "Loading checkpoint shards:  71%|███████▏  | 5/7 [00:28<00:11,  5.79s/it]\u001b[0m \n",
      "Loading checkpoint shards:  86%|████████▌ | 6/7 [00:34<00:05,  5.80s/it]\u001b[0m \n",
      "Loading checkpoint shards: 100%|██████████| 7/7 [00:40<00:00,  5.77s/it]\u001b[0m \n"
     ]
    },
    {
     "data": {
      "text/plain": [
       "<module 'ray.serve' from '/opt/conda/lib/python3.10/site-packages/ray/serve/__init__.py'>"
      ]
     },
     "execution_count": 23,
     "metadata": {},
     "output_type": "execute_result"
    }
   ],
   "source": [
    "deployment = PredictDeployment.bind(model_id=model_id)\n",
    "handle = serve.run(deployment)\n",
    "serve"
   ]
  },
  {
   "cell_type": "code",
   "execution_count": 24,
   "id": "6472be65-886c-4815-b1b6-d4ba744423b6",
   "metadata": {},
   "outputs": [
    {
     "data": {
      "text/plain": [
       "ServeStatus(proxies={'3bf9415e44d2577899f62db907c9953a08a2dfa0202a744f4f90f0d1': <ProxyStatus.HEALTHY: 'HEALTHY'>}, applications={'default': ApplicationStatusOverview(status=<ApplicationStatus.RUNNING: 'RUNNING'>, message='', last_deployed_time_s=1695757862.7654545, deployments={'PredictDeployment': DeploymentStatusOverview(status=<DeploymentStatus.HEALTHY: 'HEALTHY'>, replica_states={'RUNNING': 1}, message='')})})"
      ]
     },
     "execution_count": 24,
     "metadata": {},
     "output_type": "execute_result"
    }
   ],
   "source": [
    "serve.status()"
   ]
  },
  {
   "cell_type": "code",
   "execution_count": 26,
   "id": "3fbb0ef9-a705-4607-beb0-1be2cad59763",
   "metadata": {},
   "outputs": [
    {
     "name": "stderr",
     "output_type": "stream",
     "text": [
      "\u001b[2m\u001b[36m(HTTPProxyActor pid=4128)\u001b[0m ERROR 2023-09-26 12:53:01,544 http_proxy 10.3.5.35 2ab48c8d-69e7-400a-a42e-ce19318458cc / default http_proxy.py:1345 - \u001b[36mray::ServeReplica:default:PredictDeployment.handle_request_streaming()\u001b[39m (pid=21154, ip=10.3.0.3, actor_id=c946dea35cf662f4c0a1153d07000000, repr=<ray.serve._private.replica.ServeReplica:default:PredictDeployment object at 0x7f71bb45cee0>)\n",
      "\u001b[2m\u001b[36m(HTTPProxyActor pid=4128)\u001b[0m     async for result in generator:\n",
      "\u001b[2m\u001b[36m(HTTPProxyActor pid=4128)\u001b[0m   File \"/home/ray/anaconda3/lib/python3.10/site-packages/ray/serve/_private/replica.py\", line 326, in _handle_http_request_generator\n",
      "\u001b[2m\u001b[36m(HTTPProxyActor pid=4128)\u001b[0m     raise e from None\n",
      "\u001b[2m\u001b[36m(HTTPProxyActor pid=4128)\u001b[0m   File \"/home/ray/anaconda3/lib/python3.10/site-packages/ray/serve/_private/replica.py\", line 875, in call_user_method\n",
      "\u001b[2m\u001b[36m(HTTPProxyActor pid=4128)\u001b[0m     raise e from None\n",
      "\u001b[2m\u001b[36m(HTTPProxyActor pid=4128)\u001b[0m ray.exceptions.RayTaskError: \u001b[36mray::ServeReplica:default:PredictDeployment.handle_request_streaming()\u001b[39m (pid=21154, ip=10.3.0.3)\n",
      "\u001b[2m\u001b[36m(HTTPProxyActor pid=4128)\u001b[0m   File \"/home/ray/anaconda3/lib/python3.10/site-packages/ray/serve/_private/utils.py\", line 212, in wrap_to_ray_error\n",
      "\u001b[2m\u001b[36m(HTTPProxyActor pid=4128)\u001b[0m     raise exception\n",
      "\u001b[2m\u001b[36m(HTTPProxyActor pid=4128)\u001b[0m   File \"/home/ray/anaconda3/lib/python3.10/site-packages/ray/serve/_private/replica.py\", line 856, in call_user_method\n",
      "\u001b[2m\u001b[36m(HTTPProxyActor pid=4128)\u001b[0m     result = await method_to_call(*request_args, **request_kwargs)\n",
      "\u001b[2m\u001b[36m(HTTPProxyActor pid=4128)\u001b[0m   File \"/var/tmp/ipykernel_68175/1430068468.py\", line 46, in __call__\n",
      "\u001b[2m\u001b[36m(HTTPProxyActor pid=4128)\u001b[0m   File \"/var/tmp/ipykernel_68175/1430068468.py\", line 27, in generate\n",
      "\u001b[2m\u001b[36m(HTTPProxyActor pid=4128)\u001b[0m   File \"/home/ray/anaconda3/lib/python3.10/site-packages/torch/utils/_contextlib.py\", line 115, in decorate_context\n",
      "\u001b[2m\u001b[36m(HTTPProxyActor pid=4128)\u001b[0m     return func(*args, **kwargs)\n",
      "\u001b[2m\u001b[36m(HTTPProxyActor pid=4128)\u001b[0m   File \"/tmp/ray/session_2023-09-26_09-58-55_176094_8/runtime_resources/pip/0448a7c6f384e81067a507e691859b22d4f35bab/virtualenv/lib/python3.10/site-packages/transformers/generation/utils.py\", line 1648, in generate\n",
      "\u001b[2m\u001b[36m(HTTPProxyActor pid=4128)\u001b[0m     return self.sample(\n",
      "\u001b[2m\u001b[36m(HTTPProxyActor pid=4128)\u001b[0m   File \"/tmp/ray/session_2023-09-26_09-58-55_176094_8/runtime_resources/pip/0448a7c6f384e81067a507e691859b22d4f35bab/virtualenv/lib/python3.10/site-packages/transformers/generation/utils.py\", line 2730, in sample\n",
      "\u001b[2m\u001b[36m(HTTPProxyActor pid=4128)\u001b[0m     outputs = self(\n",
      "\u001b[2m\u001b[36m(HTTPProxyActor pid=4128)\u001b[0m   File \"/home/ray/anaconda3/lib/python3.10/site-packages/torch/nn/modules/module.py\", line 1501, in _call_impl\n",
      "\u001b[2m\u001b[36m(HTTPProxyActor pid=4128)\u001b[0m     return forward_call(*args, **kwargs)\n",
      "\u001b[2m\u001b[36m(HTTPProxyActor pid=4128)\u001b[0m   File \"/home/ray/anaconda3/lib/python3.10/site-packages/accelerate/hooks.py\", line 165, in new_forward\n",
      "\u001b[2m\u001b[36m(HTTPProxyActor pid=4128)\u001b[0m     output = old_forward(*args, **kwargs)\n",
      "\u001b[2m\u001b[36m(HTTPProxyActor pid=4128)\u001b[0m   File \"/tmp/ray/session_2023-09-26_09-58-55_176094_8/runtime_resources/pip/0448a7c6f384e81067a507e691859b22d4f35bab/virtualenv/lib/python3.10/site-packages/transformers/models/llama/modeling_llama.py\", line 820, in forward\n",
      "\u001b[2m\u001b[36m(HTTPProxyActor pid=4128)\u001b[0m     outputs = self.model(\n",
      "\u001b[2m\u001b[36m(HTTPProxyActor pid=4128)\u001b[0m   File \"/home/ray/anaconda3/lib/python3.10/site-packages/torch/nn/modules/module.py\", line 1501, in _call_impl\n",
      "\u001b[2m\u001b[36m(HTTPProxyActor pid=4128)\u001b[0m     return forward_call(*args, **kwargs)\n",
      "\u001b[2m\u001b[36m(HTTPProxyActor pid=4128)\u001b[0m   File \"/home/ray/anaconda3/lib/python3.10/site-packages/accelerate/hooks.py\", line 165, in new_forward\n",
      "\u001b[2m\u001b[36m(HTTPProxyActor pid=4128)\u001b[0m     output = old_forward(*args, **kwargs)\n",
      "\u001b[2m\u001b[36m(HTTPProxyActor pid=4128)\u001b[0m   File \"/tmp/ray/session_2023-09-26_09-58-55_176094_8/runtime_resources/pip/0448a7c6f384e81067a507e691859b22d4f35bab/virtualenv/lib/python3.10/site-packages/transformers/models/llama/modeling_llama.py\", line 708, in forward\n",
      "\u001b[2m\u001b[36m(HTTPProxyActor pid=4128)\u001b[0m     layer_outputs = decoder_layer(\n",
      "\u001b[2m\u001b[36m(HTTPProxyActor pid=4128)\u001b[0m   File \"/home/ray/anaconda3/lib/python3.10/site-packages/torch/nn/modules/module.py\", line 1501, in _call_impl\n",
      "\u001b[2m\u001b[36m(HTTPProxyActor pid=4128)\u001b[0m     return forward_call(*args, **kwargs)\n",
      "\u001b[2m\u001b[36m(HTTPProxyActor pid=4128)\u001b[0m   File \"/home/ray/anaconda3/lib/python3.10/site-packages/accelerate/hooks.py\", line 165, in new_forward\n",
      "\u001b[2m\u001b[36m(HTTPProxyActor pid=4128)\u001b[0m     output = old_forward(*args, **kwargs)\n",
      "\u001b[2m\u001b[36m(HTTPProxyActor pid=4128)\u001b[0m   File \"/tmp/ray/session_2023-09-26_09-58-55_176094_8/runtime_resources/pip/0448a7c6f384e81067a507e691859b22d4f35bab/virtualenv/lib/python3.10/site-packages/transformers/models/llama/modeling_llama.py\", line 424, in forward\n",
      "\u001b[2m\u001b[36m(HTTPProxyActor pid=4128)\u001b[0m     hidden_states, self_attn_weights, present_key_value = self.self_attn(\n",
      "\u001b[2m\u001b[36m(HTTPProxyActor pid=4128)\u001b[0m   File \"/home/ray/anaconda3/lib/python3.10/site-packages/torch/nn/modules/module.py\", line 1501, in _call_impl\n",
      "\u001b[2m\u001b[36m(HTTPProxyActor pid=4128)\u001b[0m     return forward_call(*args, **kwargs)\n",
      "\u001b[2m\u001b[36m(HTTPProxyActor pid=4128)\u001b[0m   File \"/home/ray/anaconda3/lib/python3.10/site-packages/accelerate/hooks.py\", line 165, in new_forward\n",
      "\u001b[2m\u001b[36m(HTTPProxyActor pid=4128)\u001b[0m     output = old_forward(*args, **kwargs)\n",
      "\u001b[2m\u001b[36m(HTTPProxyActor pid=4128)\u001b[0m   File \"/tmp/ray/session_2023-09-26_09-58-55_176094_8/runtime_resources/pip/0448a7c6f384e81067a507e691859b22d4f35bab/virtualenv/lib/python3.10/site-packages/transformers/models/llama/modeling_llama.py\", line 321, in forward\n",
      "\u001b[2m\u001b[36m(HTTPProxyActor pid=4128)\u001b[0m     query_states = self.q_proj(hidden_states)\n",
      "\u001b[2m\u001b[36m(HTTPProxyActor pid=4128)\u001b[0m   File \"/home/ray/anaconda3/lib/python3.10/site-packages/torch/nn/modules/module.py\", line 1501, in _call_impl\n",
      "\u001b[2m\u001b[36m(HTTPProxyActor pid=4128)\u001b[0m     return forward_call(*args, **kwargs)\n",
      "\u001b[2m\u001b[36m(HTTPProxyActor pid=4128)\u001b[0m   File \"/home/ray/anaconda3/lib/python3.10/site-packages/accelerate/hooks.py\", line 165, in new_forward\n",
      "\u001b[2m\u001b[36m(HTTPProxyActor pid=4128)\u001b[0m     output = old_forward(*args, **kwargs)\n",
      "\u001b[2m\u001b[36m(HTTPProxyActor pid=4128)\u001b[0m   File \"/home/ray/anaconda3/lib/python3.10/site-packages/torch/nn/modules/linear.py\", line 114, in forward\n",
      "\u001b[2m\u001b[36m(HTTPProxyActor pid=4128)\u001b[0m     return F.linear(input, self.weight, self.bias)\n",
      "\u001b[2m\u001b[36m(HTTPProxyActor pid=4128)\u001b[0m RuntimeError: \"addmm_impl_cpu_\" not implemented for 'Half'\n",
      "\u001b[2m\u001b[36m(HTTPProxyActor pid=4128)\u001b[0m Traceback (most recent call last):\n",
      "\u001b[2m\u001b[36m(HTTPProxyActor pid=4128)\u001b[0m   File \"/home/ray/anaconda3/lib/python3.10/site-packages/ray/serve/_private/http_proxy.py\", line 1332, in send_request_to_replica_streaming\n",
      "\u001b[2m\u001b[36m(HTTPProxyActor pid=4128)\u001b[0m     status_code = await self._consume_and_send_asgi_message_generator(\n",
      "\u001b[2m\u001b[36m(HTTPProxyActor pid=4128)\u001b[0m   File \"/home/ray/anaconda3/lib/python3.10/site-packages/ray/serve/_private/http_proxy.py\", line 1219, in _consume_and_send_asgi_message_generator\n",
      "\u001b[2m\u001b[36m(HTTPProxyActor pid=4128)\u001b[0m     asgi_messages: List[Message] = pickle.loads(await obj_ref)\n",
      "\u001b[2m\u001b[36m(HTTPProxyActor pid=4128)\u001b[0m ray.exceptions.RayTaskError(RuntimeError): \u001b[36mray::ServeReplica:default:PredictDeployment.handle_request_streaming()\u001b[39m (pid=21154, ip=10.3.0.3, actor_id=c946dea35cf662f4c0a1153d07000000, repr=<ray.serve._private.replica.ServeReplica:default:PredictDeployment object at 0x7f71bb45cee0>)\n",
      "\u001b[2m\u001b[36m(HTTPProxyActor pid=4128)\u001b[0m     async for result in generator:\n",
      "\u001b[2m\u001b[36m(HTTPProxyActor pid=4128)\u001b[0m   File \"/home/ray/anaconda3/lib/python3.10/site-packages/ray/serve/_private/replica.py\", line 326, in _handle_http_request_generator\n",
      "\u001b[2m\u001b[36m(HTTPProxyActor pid=4128)\u001b[0m     raise e from None\n",
      "\u001b[2m\u001b[36m(HTTPProxyActor pid=4128)\u001b[0m   File \"/home/ray/anaconda3/lib/python3.10/site-packages/ray/serve/_private/replica.py\", line 875, in call_user_method\n",
      "\u001b[2m\u001b[36m(HTTPProxyActor pid=4128)\u001b[0m     raise e from None\n",
      "\u001b[2m\u001b[36m(HTTPProxyActor pid=4128)\u001b[0m ray.exceptions.RayTaskError: \u001b[36mray::ServeReplica:default:PredictDeployment.handle_request_streaming()\u001b[39m (pid=21154, ip=10.3.0.3)\n",
      "\u001b[2m\u001b[36m(HTTPProxyActor pid=4128)\u001b[0m   File \"/home/ray/anaconda3/lib/python3.10/site-packages/ray/serve/_private/utils.py\", line 212, in wrap_to_ray_error\n",
      "\u001b[2m\u001b[36m(HTTPProxyActor pid=4128)\u001b[0m     raise exception\n",
      "\u001b[2m\u001b[36m(HTTPProxyActor pid=4128)\u001b[0m   File \"/home/ray/anaconda3/lib/python3.10/site-packages/ray/serve/_private/replica.py\", line 856, in call_user_method\n",
      "\u001b[2m\u001b[36m(HTTPProxyActor pid=4128)\u001b[0m     result = await method_to_call(*request_args, **request_kwargs)\n",
      "\u001b[2m\u001b[36m(HTTPProxyActor pid=4128)\u001b[0m   File \"/var/tmp/ipykernel_68175/1430068468.py\", line 46, in __call__\n",
      "\u001b[2m\u001b[36m(HTTPProxyActor pid=4128)\u001b[0m   File \"/var/tmp/ipykernel_68175/1430068468.py\", line 27, in generate\n",
      "\u001b[2m\u001b[36m(HTTPProxyActor pid=4128)\u001b[0m   File \"/home/ray/anaconda3/lib/python3.10/site-packages/torch/utils/_contextlib.py\", line 115, in decorate_context\n",
      "\u001b[2m\u001b[36m(HTTPProxyActor pid=4128)\u001b[0m     return func(*args, **kwargs)\n",
      "\u001b[2m\u001b[36m(HTTPProxyActor pid=4128)\u001b[0m   File \"/tmp/ray/session_2023-09-26_09-58-55_176094_8/runtime_resources/pip/0448a7c6f384e81067a507e691859b22d4f35bab/virtualenv/lib/python3.10/site-packages/transformers/generation/utils.py\", line 1648, in generate\n",
      "\u001b[2m\u001b[36m(HTTPProxyActor pid=4128)\u001b[0m     return self.sample(\n",
      "\u001b[2m\u001b[36m(HTTPProxyActor pid=4128)\u001b[0m   File \"/tmp/ray/session_2023-09-26_09-58-55_176094_8/runtime_resources/pip/0448a7c6f384e81067a507e691859b22d4f35bab/virtualenv/lib/python3.10/site-packages/transformers/generation/utils.py\", line 2730, in sample\n",
      "\u001b[2m\u001b[36m(HTTPProxyActor pid=4128)\u001b[0m     outputs = self(\n",
      "\u001b[2m\u001b[36m(HTTPProxyActor pid=4128)\u001b[0m   File \"/home/ray/anaconda3/lib/python3.10/site-packages/torch/nn/modules/module.py\", line 1501, in _call_impl\n",
      "\u001b[2m\u001b[36m(HTTPProxyActor pid=4128)\u001b[0m     return forward_call(*args, **kwargs)\n",
      "\u001b[2m\u001b[36m(HTTPProxyActor pid=4128)\u001b[0m   File \"/home/ray/anaconda3/lib/python3.10/site-packages/accelerate/hooks.py\", line 165, in new_forward\n",
      "\u001b[2m\u001b[36m(HTTPProxyActor pid=4128)\u001b[0m     output = old_forward(*args, **kwargs)\n",
      "\u001b[2m\u001b[36m(HTTPProxyActor pid=4128)\u001b[0m   File \"/tmp/ray/session_2023-09-26_09-58-55_176094_8/runtime_resources/pip/0448a7c6f384e81067a507e691859b22d4f35bab/virtualenv/lib/python3.10/site-packages/transformers/models/llama/modeling_llama.py\", line 820, in forward\n",
      "\u001b[2m\u001b[36m(HTTPProxyActor pid=4128)\u001b[0m     outputs = self.model(\n",
      "\u001b[2m\u001b[36m(HTTPProxyActor pid=4128)\u001b[0m   File \"/home/ray/anaconda3/lib/python3.10/site-packages/torch/nn/modules/module.py\", line 1501, in _call_impl\n",
      "\u001b[2m\u001b[36m(HTTPProxyActor pid=4128)\u001b[0m     return forward_call(*args, **kwargs)\n",
      "\u001b[2m\u001b[36m(HTTPProxyActor pid=4128)\u001b[0m   File \"/home/ray/anaconda3/lib/python3.10/site-packages/accelerate/hooks.py\", line 165, in new_forward\n",
      "\u001b[2m\u001b[36m(HTTPProxyActor pid=4128)\u001b[0m     output = old_forward(*args, **kwargs)\n",
      "\u001b[2m\u001b[36m(HTTPProxyActor pid=4128)\u001b[0m   File \"/tmp/ray/session_2023-09-26_09-58-55_176094_8/runtime_resources/pip/0448a7c6f384e81067a507e691859b22d4f35bab/virtualenv/lib/python3.10/site-packages/transformers/models/llama/modeling_llama.py\", line 708, in forward\n",
      "\u001b[2m\u001b[36m(HTTPProxyActor pid=4128)\u001b[0m     layer_outputs = decoder_layer(\n",
      "\u001b[2m\u001b[36m(HTTPProxyActor pid=4128)\u001b[0m   File \"/home/ray/anaconda3/lib/python3.10/site-packages/torch/nn/modules/module.py\", line 1501, in _call_impl\n",
      "\u001b[2m\u001b[36m(HTTPProxyActor pid=4128)\u001b[0m     return forward_call(*args, **kwargs)\n",
      "\u001b[2m\u001b[36m(HTTPProxyActor pid=4128)\u001b[0m   File \"/home/ray/anaconda3/lib/python3.10/site-packages/accelerate/hooks.py\", line 165, in new_forward\n",
      "\u001b[2m\u001b[36m(HTTPProxyActor pid=4128)\u001b[0m     output = old_forward(*args, **kwargs)\n",
      "\u001b[2m\u001b[36m(HTTPProxyActor pid=4128)\u001b[0m   File \"/tmp/ray/session_2023-09-26_09-58-55_176094_8/runtime_resources/pip/0448a7c6f384e81067a507e691859b22d4f35bab/virtualenv/lib/python3.10/site-packages/transformers/models/llama/modeling_llama.py\", line 424, in forward\n",
      "\u001b[2m\u001b[36m(HTTPProxyActor pid=4128)\u001b[0m     hidden_states, self_attn_weights, present_key_value = self.self_attn(\n",
      "\u001b[2m\u001b[36m(HTTPProxyActor pid=4128)\u001b[0m   File \"/home/ray/anaconda3/lib/python3.10/site-packages/torch/nn/modules/module.py\", line 1501, in _call_impl\n",
      "\u001b[2m\u001b[36m(HTTPProxyActor pid=4128)\u001b[0m     return forward_call(*args, **kwargs)\n",
      "\u001b[2m\u001b[36m(HTTPProxyActor pid=4128)\u001b[0m   File \"/home/ray/anaconda3/lib/python3.10/site-packages/accelerate/hooks.py\", line 165, in new_forward\n",
      "\u001b[2m\u001b[36m(HTTPProxyActor pid=4128)\u001b[0m     output = old_forward(*args, **kwargs)\n",
      "\u001b[2m\u001b[36m(HTTPProxyActor pid=4128)\u001b[0m   File \"/tmp/ray/session_2023-09-26_09-58-55_176094_8/runtime_resources/pip/0448a7c6f384e81067a507e691859b22d4f35bab/virtualenv/lib/python3.10/site-packages/transformers/models/llama/modeling_llama.py\", line 321, in forward\n",
      "\u001b[2m\u001b[36m(HTTPProxyActor pid=4128)\u001b[0m     query_states = self.q_proj(hidden_states)\n",
      "\u001b[2m\u001b[36m(HTTPProxyActor pid=4128)\u001b[0m   File \"/home/ray/anaconda3/lib/python3.10/site-packages/torch/nn/modules/module.py\", line 1501, in _call_impl\n",
      "\u001b[2m\u001b[36m(HTTPProxyActor pid=4128)\u001b[0m     return forward_call(*args, **kwargs)\n",
      "\u001b[2m\u001b[36m(HTTPProxyActor pid=4128)\u001b[0m   File \"/home/ray/anaconda3/lib/python3.10/site-packages/accelerate/hooks.py\", line 165, in new_forward\n",
      "\u001b[2m\u001b[36m(HTTPProxyActor pid=4128)\u001b[0m     output = old_forward(*args, **kwargs)\n",
      "\u001b[2m\u001b[36m(HTTPProxyActor pid=4128)\u001b[0m   File \"/home/ray/anaconda3/lib/python3.10/site-packages/torch/nn/modules/linear.py\", line 114, in forward\n",
      "\u001b[2m\u001b[36m(HTTPProxyActor pid=4128)\u001b[0m     return F.linear(input, self.weight, self.bias)\n",
      "\u001b[2m\u001b[36m(HTTPProxyActor pid=4128)\u001b[0m RuntimeError: \"addmm_impl_cpu_\" not implemented for 'Half'\n",
      "\u001b[2m\u001b[36m(ServeReplica:default:PredictDeployment pid=21154, ip=10.3.0.3)\u001b[0m ERROR 2023-09-26 12:53:01,536 PredictDeployment default#PredictDeployment#KKJILi 2ab48c8d-69e7-400a-a42e-ce19318458cc / default replica.py:730 - Request failed due to RayTaskError:\n",
      "\u001b[2m\u001b[36m(ServeReplica:default:PredictDeployment pid=21154, ip=10.3.0.3)\u001b[0m Traceback (most recent call last):\n",
      "\u001b[2m\u001b[36m(ServeReplica:default:PredictDeployment pid=21154, ip=10.3.0.3)\u001b[0m   File \"/home/ray/anaconda3/lib/python3.10/site-packages/ray/serve/_private/replica.py\", line 727, in wrap_user_method_call\n",
      "\u001b[2m\u001b[36m(ServeReplica:default:PredictDeployment pid=21154, ip=10.3.0.3)\u001b[0m     yield\n",
      "\u001b[2m\u001b[36m(ServeReplica:default:PredictDeployment pid=21154, ip=10.3.0.3)\u001b[0m   File \"/home/ray/anaconda3/lib/python3.10/site-packages/ray/serve/_private/replica.py\", line 875, in call_user_method\n",
      "\u001b[2m\u001b[36m(ServeReplica:default:PredictDeployment pid=21154, ip=10.3.0.3)\u001b[0m     raise e from None\n",
      "\u001b[2m\u001b[36m(ServeReplica:default:PredictDeployment pid=21154, ip=10.3.0.3)\u001b[0m ray.exceptions.RayTaskError: \u001b[36mray::ServeReplica:default:PredictDeployment.handle_request_streaming()\u001b[39m (pid=21154, ip=10.3.0.3)\n",
      "\u001b[2m\u001b[36m(ServeReplica:default:PredictDeployment pid=21154, ip=10.3.0.3)\u001b[0m   File \"/home/ray/anaconda3/lib/python3.10/site-packages/ray/serve/_private/utils.py\", line 212, in wrap_to_ray_error\n",
      "\u001b[2m\u001b[36m(ServeReplica:default:PredictDeployment pid=21154, ip=10.3.0.3)\u001b[0m     raise exception\n",
      "\u001b[2m\u001b[36m(ServeReplica:default:PredictDeployment pid=21154, ip=10.3.0.3)\u001b[0m   File \"/home/ray/anaconda3/lib/python3.10/site-packages/ray/serve/_private/replica.py\", line 856, in call_user_method\n",
      "\u001b[2m\u001b[36m(ServeReplica:default:PredictDeployment pid=21154, ip=10.3.0.3)\u001b[0m     result = await method_to_call(*request_args, **request_kwargs)\n",
      "\u001b[2m\u001b[36m(ServeReplica:default:PredictDeployment pid=21154, ip=10.3.0.3)\u001b[0m   File \"/var/tmp/ipykernel_68175/1430068468.py\", line 46, in __call__\n",
      "\u001b[2m\u001b[36m(ServeReplica:default:PredictDeployment pid=21154, ip=10.3.0.3)\u001b[0m   File \"/var/tmp/ipykernel_68175/1430068468.py\", line 27, in generate\n",
      "\u001b[2m\u001b[36m(ServeReplica:default:PredictDeployment pid=21154, ip=10.3.0.3)\u001b[0m   File \"/home/ray/anaconda3/lib/python3.10/site-packages/torch/utils/_contextlib.py\", line 115, in decorate_context\n",
      "\u001b[2m\u001b[36m(ServeReplica:default:PredictDeployment pid=21154, ip=10.3.0.3)\u001b[0m     return func(*args, **kwargs)\n",
      "\u001b[2m\u001b[36m(ServeReplica:default:PredictDeployment pid=21154, ip=10.3.0.3)\u001b[0m   File \"/tmp/ray/session_2023-09-26_09-58-55_176094_8/runtime_resources/pip/0448a7c6f384e81067a507e691859b22d4f35bab/virtualenv/lib/python3.10/site-packages/transformers/generation/utils.py\", line 1648, in generate\n",
      "\u001b[2m\u001b[36m(ServeReplica:default:PredictDeployment pid=21154, ip=10.3.0.3)\u001b[0m     return self.sample(\n",
      "\u001b[2m\u001b[36m(ServeReplica:default:PredictDeployment pid=21154, ip=10.3.0.3)\u001b[0m   File \"/tmp/ray/session_2023-09-26_09-58-55_176094_8/runtime_resources/pip/0448a7c6f384e81067a507e691859b22d4f35bab/virtualenv/lib/python3.10/site-packages/transformers/generation/utils.py\", line 2730, in sample\n",
      "\u001b[2m\u001b[36m(ServeReplica:default:PredictDeployment pid=21154, ip=10.3.0.3)\u001b[0m     outputs = self(\n",
      "\u001b[2m\u001b[36m(ServeReplica:default:PredictDeployment pid=21154, ip=10.3.0.3)\u001b[0m   File \"/home/ray/anaconda3/lib/python3.10/site-packages/torch/nn/modules/module.py\", line 1501, in _call_impl\n",
      "\u001b[2m\u001b[36m(ServeReplica:default:PredictDeployment pid=21154, ip=10.3.0.3)\u001b[0m     return forward_call(*args, **kwargs)\n",
      "\u001b[2m\u001b[36m(ServeReplica:default:PredictDeployment pid=21154, ip=10.3.0.3)\u001b[0m   File \"/home/ray/anaconda3/lib/python3.10/site-packages/accelerate/hooks.py\", line 165, in new_forward\n",
      "\u001b[2m\u001b[36m(ServeReplica:default:PredictDeployment pid=21154, ip=10.3.0.3)\u001b[0m     output = old_forward(*args, **kwargs)\n",
      "\u001b[2m\u001b[36m(ServeReplica:default:PredictDeployment pid=21154, ip=10.3.0.3)\u001b[0m   File \"/tmp/ray/session_2023-09-26_09-58-55_176094_8/runtime_resources/pip/0448a7c6f384e81067a507e691859b22d4f35bab/virtualenv/lib/python3.10/site-packages/transformers/models/llama/modeling_llama.py\", line 820, in forward\n",
      "\u001b[2m\u001b[36m(ServeReplica:default:PredictDeployment pid=21154, ip=10.3.0.3)\u001b[0m     outputs = self.model(\n",
      "\u001b[2m\u001b[36m(ServeReplica:default:PredictDeployment pid=21154, ip=10.3.0.3)\u001b[0m   File \"/home/ray/anaconda3/lib/python3.10/site-packages/torch/nn/modules/module.py\", line 1501, in _call_impl\n",
      "\u001b[2m\u001b[36m(ServeReplica:default:PredictDeployment pid=21154, ip=10.3.0.3)\u001b[0m     return forward_call(*args, **kwargs)\n",
      "\u001b[2m\u001b[36m(ServeReplica:default:PredictDeployment pid=21154, ip=10.3.0.3)\u001b[0m   File \"/home/ray/anaconda3/lib/python3.10/site-packages/accelerate/hooks.py\", line 165, in new_forward\n",
      "\u001b[2m\u001b[36m(ServeReplica:default:PredictDeployment pid=21154, ip=10.3.0.3)\u001b[0m     output = old_forward(*args, **kwargs)\n",
      "\u001b[2m\u001b[36m(ServeReplica:default:PredictDeployment pid=21154, ip=10.3.0.3)\u001b[0m   File \"/tmp/ray/session_2023-09-26_09-58-55_176094_8/runtime_resources/pip/0448a7c6f384e81067a507e691859b22d4f35bab/virtualenv/lib/python3.10/site-packages/transformers/models/llama/modeling_llama.py\", line 708, in forward\n",
      "\u001b[2m\u001b[36m(ServeReplica:default:PredictDeployment pid=21154, ip=10.3.0.3)\u001b[0m     layer_outputs = decoder_layer(\n",
      "\u001b[2m\u001b[36m(ServeReplica:default:PredictDeployment pid=21154, ip=10.3.0.3)\u001b[0m   File \"/home/ray/anaconda3/lib/python3.10/site-packages/torch/nn/modules/module.py\", line 1501, in _call_impl\n",
      "\u001b[2m\u001b[36m(ServeReplica:default:PredictDeployment pid=21154, ip=10.3.0.3)\u001b[0m     return forward_call(*args, **kwargs)\n",
      "\u001b[2m\u001b[36m(ServeReplica:default:PredictDeployment pid=21154, ip=10.3.0.3)\u001b[0m   File \"/home/ray/anaconda3/lib/python3.10/site-packages/accelerate/hooks.py\", line 165, in new_forward\n",
      "\u001b[2m\u001b[36m(ServeReplica:default:PredictDeployment pid=21154, ip=10.3.0.3)\u001b[0m     output = old_forward(*args, **kwargs)\n",
      "\u001b[2m\u001b[36m(ServeReplica:default:PredictDeployment pid=21154, ip=10.3.0.3)\u001b[0m   File \"/tmp/ray/session_2023-09-26_09-58-55_176094_8/runtime_resources/pip/0448a7c6f384e81067a507e691859b22d4f35bab/virtualenv/lib/python3.10/site-packages/transformers/models/llama/modeling_llama.py\", line 424, in forward\n",
      "\u001b[2m\u001b[36m(ServeReplica:default:PredictDeployment pid=21154, ip=10.3.0.3)\u001b[0m     hidden_states, self_attn_weights, present_key_value = self.self_attn(\n",
      "\u001b[2m\u001b[36m(ServeReplica:default:PredictDeployment pid=21154, ip=10.3.0.3)\u001b[0m   File \"/home/ray/anaconda3/lib/python3.10/site-packages/torch/nn/modules/module.py\", line 1501, in _call_impl\n",
      "\u001b[2m\u001b[36m(ServeReplica:default:PredictDeployment pid=21154, ip=10.3.0.3)\u001b[0m     return forward_call(*args, **kwargs)\n",
      "\u001b[2m\u001b[36m(ServeReplica:default:PredictDeployment pid=21154, ip=10.3.0.3)\u001b[0m   File \"/home/ray/anaconda3/lib/python3.10/site-packages/accelerate/hooks.py\", line 165, in new_forward\n",
      "\u001b[2m\u001b[36m(ServeReplica:default:PredictDeployment pid=21154, ip=10.3.0.3)\u001b[0m     output = old_forward(*args, **kwargs)\n",
      "\u001b[2m\u001b[36m(ServeReplica:default:PredictDeployment pid=21154, ip=10.3.0.3)\u001b[0m   File \"/tmp/ray/session_2023-09-26_09-58-55_176094_8/runtime_resources/pip/0448a7c6f384e81067a507e691859b22d4f35bab/virtualenv/lib/python3.10/site-packages/transformers/models/llama/modeling_llama.py\", line 321, in forward\n",
      "\u001b[2m\u001b[36m(ServeReplica:default:PredictDeployment pid=21154, ip=10.3.0.3)\u001b[0m     query_states = self.q_proj(hidden_states)\n",
      "\u001b[2m\u001b[36m(ServeReplica:default:PredictDeployment pid=21154, ip=10.3.0.3)\u001b[0m   File \"/home/ray/anaconda3/lib/python3.10/site-packages/torch/nn/modules/module.py\", line 1501, in _call_impl\n",
      "\u001b[2m\u001b[36m(ServeReplica:default:PredictDeployment pid=21154, ip=10.3.0.3)\u001b[0m     return forward_call(*args, **kwargs)\n",
      "\u001b[2m\u001b[36m(ServeReplica:default:PredictDeployment pid=21154, ip=10.3.0.3)\u001b[0m   File \"/home/ray/anaconda3/lib/python3.10/site-packages/accelerate/hooks.py\", line 165, in new_forward\n",
      "\u001b[2m\u001b[36m(ServeReplica:default:PredictDeployment pid=21154, ip=10.3.0.3)\u001b[0m     output = old_forward(*args, **kwargs)\n",
      "\u001b[2m\u001b[36m(ServeReplica:default:PredictDeployment pid=21154, ip=10.3.0.3)\u001b[0m   File \"/home/ray/anaconda3/lib/python3.10/site-packages/torch/nn/modules/linear.py\", line 114, in forward\n",
      "\u001b[2m\u001b[36m(ServeReplica:default:PredictDeployment pid=21154, ip=10.3.0.3)\u001b[0m     return F.linear(input, self.weight, self.bias)\n",
      "\u001b[2m\u001b[36m(ServeReplica:default:PredictDeployment pid=21154, ip=10.3.0.3)\u001b[0m RuntimeError: \"addmm_impl_cpu_\" not implemented for 'Half'\n",
      "\u001b[2m\u001b[36m(ServeReplica:default:PredictDeployment pid=21154, ip=10.3.0.3)\u001b[0m INFO 2023-09-26 12:53:01,537 PredictDeployment default#PredictDeployment#KKJILi 2ab48c8d-69e7-400a-a42e-ce19318458cc / default replica.py:746 - __CALL__ ERROR 19.3ms\n"
     ]
    },
    {
     "ename": "JSONDecodeError",
     "evalue": "Expecting value: line 1 column 1 (char 0)",
     "output_type": "error",
     "traceback": [
      "\u001b[0;31m---------------------------------------------------------------------------\u001b[0m",
      "\u001b[0;31mJSONDecodeError\u001b[0m                           Traceback (most recent call last)",
      "File \u001b[0;32m/opt/conda/lib/python3.10/site-packages/requests/models.py:960\u001b[0m, in \u001b[0;36mResponse.json\u001b[0;34m(self, **kwargs)\u001b[0m\n\u001b[1;32m    959\u001b[0m \u001b[38;5;28;01mtry\u001b[39;00m:\n\u001b[0;32m--> 960\u001b[0m     \u001b[38;5;28;01mreturn\u001b[39;00m \u001b[43mcomplexjson\u001b[49m\u001b[38;5;241;43m.\u001b[39;49m\u001b[43mloads\u001b[49m\u001b[43m(\u001b[49m\u001b[38;5;28;43mself\u001b[39;49m\u001b[38;5;241;43m.\u001b[39;49m\u001b[43mcontent\u001b[49m\u001b[38;5;241;43m.\u001b[39;49m\u001b[43mdecode\u001b[49m\u001b[43m(\u001b[49m\u001b[43mencoding\u001b[49m\u001b[43m)\u001b[49m\u001b[43m,\u001b[49m\u001b[43m \u001b[49m\u001b[38;5;241;43m*\u001b[39;49m\u001b[38;5;241;43m*\u001b[39;49m\u001b[43mkwargs\u001b[49m\u001b[43m)\u001b[49m\n\u001b[1;32m    961\u001b[0m \u001b[38;5;28;01mexcept\u001b[39;00m \u001b[38;5;167;01mUnicodeDecodeError\u001b[39;00m:\n\u001b[1;32m    962\u001b[0m     \u001b[38;5;66;03m# Wrong UTF codec detected; usually because it's not UTF-8\u001b[39;00m\n\u001b[1;32m    963\u001b[0m     \u001b[38;5;66;03m# but some other 8-bit codec.  This is an RFC violation,\u001b[39;00m\n\u001b[1;32m    964\u001b[0m     \u001b[38;5;66;03m# and the server didn't bother to tell us what codec *was*\u001b[39;00m\n\u001b[1;32m    965\u001b[0m     \u001b[38;5;66;03m# used.\u001b[39;00m\n",
      "File \u001b[0;32m/opt/conda/lib/python3.10/json/__init__.py:346\u001b[0m, in \u001b[0;36mloads\u001b[0;34m(s, cls, object_hook, parse_float, parse_int, parse_constant, object_pairs_hook, **kw)\u001b[0m\n\u001b[1;32m    343\u001b[0m \u001b[38;5;28;01mif\u001b[39;00m (\u001b[38;5;28mcls\u001b[39m \u001b[38;5;129;01mis\u001b[39;00m \u001b[38;5;28;01mNone\u001b[39;00m \u001b[38;5;129;01mand\u001b[39;00m object_hook \u001b[38;5;129;01mis\u001b[39;00m \u001b[38;5;28;01mNone\u001b[39;00m \u001b[38;5;129;01mand\u001b[39;00m\n\u001b[1;32m    344\u001b[0m         parse_int \u001b[38;5;129;01mis\u001b[39;00m \u001b[38;5;28;01mNone\u001b[39;00m \u001b[38;5;129;01mand\u001b[39;00m parse_float \u001b[38;5;129;01mis\u001b[39;00m \u001b[38;5;28;01mNone\u001b[39;00m \u001b[38;5;129;01mand\u001b[39;00m\n\u001b[1;32m    345\u001b[0m         parse_constant \u001b[38;5;129;01mis\u001b[39;00m \u001b[38;5;28;01mNone\u001b[39;00m \u001b[38;5;129;01mand\u001b[39;00m object_pairs_hook \u001b[38;5;129;01mis\u001b[39;00m \u001b[38;5;28;01mNone\u001b[39;00m \u001b[38;5;129;01mand\u001b[39;00m \u001b[38;5;129;01mnot\u001b[39;00m kw):\n\u001b[0;32m--> 346\u001b[0m     \u001b[38;5;28;01mreturn\u001b[39;00m \u001b[43m_default_decoder\u001b[49m\u001b[38;5;241;43m.\u001b[39;49m\u001b[43mdecode\u001b[49m\u001b[43m(\u001b[49m\u001b[43ms\u001b[49m\u001b[43m)\u001b[49m\n\u001b[1;32m    347\u001b[0m \u001b[38;5;28;01mif\u001b[39;00m \u001b[38;5;28mcls\u001b[39m \u001b[38;5;129;01mis\u001b[39;00m \u001b[38;5;28;01mNone\u001b[39;00m:\n",
      "File \u001b[0;32m/opt/conda/lib/python3.10/json/decoder.py:337\u001b[0m, in \u001b[0;36mJSONDecoder.decode\u001b[0;34m(self, s, _w)\u001b[0m\n\u001b[1;32m    333\u001b[0m \u001b[38;5;250m\u001b[39m\u001b[38;5;124;03m\"\"\"Return the Python representation of ``s`` (a ``str`` instance\u001b[39;00m\n\u001b[1;32m    334\u001b[0m \u001b[38;5;124;03mcontaining a JSON document).\u001b[39;00m\n\u001b[1;32m    335\u001b[0m \n\u001b[1;32m    336\u001b[0m \u001b[38;5;124;03m\"\"\"\u001b[39;00m\n\u001b[0;32m--> 337\u001b[0m obj, end \u001b[38;5;241m=\u001b[39m \u001b[38;5;28;43mself\u001b[39;49m\u001b[38;5;241;43m.\u001b[39;49m\u001b[43mraw_decode\u001b[49m\u001b[43m(\u001b[49m\u001b[43ms\u001b[49m\u001b[43m,\u001b[49m\u001b[43m \u001b[49m\u001b[43midx\u001b[49m\u001b[38;5;241;43m=\u001b[39;49m\u001b[43m_w\u001b[49m\u001b[43m(\u001b[49m\u001b[43ms\u001b[49m\u001b[43m,\u001b[49m\u001b[43m \u001b[49m\u001b[38;5;241;43m0\u001b[39;49m\u001b[43m)\u001b[49m\u001b[38;5;241;43m.\u001b[39;49m\u001b[43mend\u001b[49m\u001b[43m(\u001b[49m\u001b[43m)\u001b[49m\u001b[43m)\u001b[49m\n\u001b[1;32m    338\u001b[0m end \u001b[38;5;241m=\u001b[39m _w(s, end)\u001b[38;5;241m.\u001b[39mend()\n",
      "File \u001b[0;32m/opt/conda/lib/python3.10/json/decoder.py:355\u001b[0m, in \u001b[0;36mJSONDecoder.raw_decode\u001b[0;34m(self, s, idx)\u001b[0m\n\u001b[1;32m    354\u001b[0m \u001b[38;5;28;01mexcept\u001b[39;00m \u001b[38;5;167;01mStopIteration\u001b[39;00m \u001b[38;5;28;01mas\u001b[39;00m err:\n\u001b[0;32m--> 355\u001b[0m     \u001b[38;5;28;01mraise\u001b[39;00m JSONDecodeError(\u001b[38;5;124m\"\u001b[39m\u001b[38;5;124mExpecting value\u001b[39m\u001b[38;5;124m\"\u001b[39m, s, err\u001b[38;5;241m.\u001b[39mvalue) \u001b[38;5;28;01mfrom\u001b[39;00m \u001b[38;5;28;01mNone\u001b[39;00m\n\u001b[1;32m    356\u001b[0m \u001b[38;5;28;01mreturn\u001b[39;00m obj, end\n",
      "\u001b[0;31mJSONDecodeError\u001b[0m: Expecting value: line 1 column 1 (char 0)",
      "\nDuring handling of the above exception, another exception occurred:\n",
      "\u001b[0;31mJSONDecodeError\u001b[0m                           Traceback (most recent call last)",
      "Cell \u001b[0;32mIn[26], line 5\u001b[0m\n\u001b[1;32m      2\u001b[0m prompt \u001b[38;5;241m=\u001b[39m \u001b[38;5;124m\"\u001b[39m\u001b[38;5;124mOnce upon a time, there was a horse.\u001b[39m\u001b[38;5;124m\"\u001b[39m\n\u001b[1;32m      4\u001b[0m sample_input \u001b[38;5;241m=\u001b[39m {\u001b[38;5;124m\"\u001b[39m\u001b[38;5;124mtext\u001b[39m\u001b[38;5;124m\"\u001b[39m: prompt}\n\u001b[0;32m----> 5\u001b[0m output \u001b[38;5;241m=\u001b[39m \u001b[43mrequests\u001b[49m\u001b[38;5;241;43m.\u001b[39;49m\u001b[43mpost\u001b[49m\u001b[43m(\u001b[49m\u001b[38;5;124;43m\"\u001b[39;49m\u001b[38;5;124;43mhttp://10.3.5.35:8000/\u001b[39;49m\u001b[38;5;124;43m\"\u001b[39;49m\u001b[43m,\u001b[49m\u001b[43m \u001b[49m\u001b[43mjson\u001b[49m\u001b[38;5;241;43m=\u001b[39;49m\u001b[43m[\u001b[49m\u001b[43msample_input\u001b[49m\u001b[43m]\u001b[49m\u001b[43m)\u001b[49m\u001b[38;5;241;43m.\u001b[39;49m\u001b[43mjson\u001b[49m\u001b[43m(\u001b[49m\u001b[43m)\u001b[49m\n\u001b[1;32m      6\u001b[0m \u001b[38;5;28mprint\u001b[39m(output)\n",
      "File \u001b[0;32m/opt/conda/lib/python3.10/site-packages/requests/models.py:968\u001b[0m, in \u001b[0;36mResponse.json\u001b[0;34m(self, **kwargs)\u001b[0m\n\u001b[1;32m    966\u001b[0m             \u001b[38;5;28;01mpass\u001b[39;00m\n\u001b[1;32m    967\u001b[0m         \u001b[38;5;28;01mexcept\u001b[39;00m JSONDecodeError \u001b[38;5;28;01mas\u001b[39;00m e:\n\u001b[0;32m--> 968\u001b[0m             \u001b[38;5;28;01mraise\u001b[39;00m RequestsJSONDecodeError(e\u001b[38;5;241m.\u001b[39mmsg, e\u001b[38;5;241m.\u001b[39mdoc, e\u001b[38;5;241m.\u001b[39mpos)\n\u001b[1;32m    970\u001b[0m \u001b[38;5;28;01mtry\u001b[39;00m:\n\u001b[1;32m    971\u001b[0m     \u001b[38;5;28;01mreturn\u001b[39;00m complexjson\u001b[38;5;241m.\u001b[39mloads(\u001b[38;5;28mself\u001b[39m\u001b[38;5;241m.\u001b[39mtext, \u001b[38;5;241m*\u001b[39m\u001b[38;5;241m*\u001b[39mkwargs)\n",
      "\u001b[0;31mJSONDecodeError\u001b[0m: Expecting value: line 1 column 1 (char 0)"
     ]
    }
   ],
   "source": [
    "import requests\n",
    "prompt = \"Once upon a time, there was a horse.\"\n",
    "\n",
    "sample_input = {\"text\": prompt}\n",
    "output = requests.post(\"http://10.3.5.35:8000/\", json=[sample_input]).json()\n",
    "print(output)"
   ]
  },
  {
   "cell_type": "code",
   "execution_count": null,
   "id": "c7d0dcf6-8151-4da5-b6e9-17e9d46f0699",
   "metadata": {},
   "outputs": [],
   "source": []
  },
  {
   "cell_type": "code",
   "execution_count": 33,
   "id": "748391ef-afa2-4b8f-8c9b-76a658fa5b79",
   "metadata": {},
   "outputs": [
    {
     "name": "stderr",
     "output_type": "stream",
     "text": [
      "2023-09-26 20:07:49,299\tINFO router.py:473 -- Got updated replicas for deployment 'MostBasicIngress' in application 'default': set().\n",
      "\u001b[2m\u001b[36m(ServeController pid=4311)\u001b[0m INFO 2023-09-26 13:07:49,257 controller 4311 deployment_state.py:1706 - Removing 1 replica from deployment 'MostBasicIngress' in application 'default'.\n",
      "\u001b[2m\u001b[36m(ServeController pid=4311)\u001b[0m INFO 2023-09-26 13:07:51,432 controller 4311 deployment_state.py:2025 - Replica default#MostBasicIngress#emYJdw is stopped.\n"
     ]
    }
   ],
   "source": [
    " serve.shutdown()"
   ]
  },
  {
   "cell_type": "code",
   "execution_count": 28,
   "id": "b5a76b48-aadf-4e20-ac26-c7f49f0d9b91",
   "metadata": {},
   "outputs": [
    {
     "ename": "RayServeException",
     "evalue": "There is no Serve instance running on this Ray cluster.",
     "output_type": "error",
     "traceback": [
      "\u001b[0;31m---------------------------------------------------------------------------\u001b[0m",
      "\u001b[0;31mValueError\u001b[0m                                Traceback (most recent call last)",
      "File \u001b[0;32m/opt/conda/lib/python3.10/site-packages/ray/serve/context.py:135\u001b[0m, in \u001b[0;36m_connect\u001b[0;34m(raise_if_no_controller_running)\u001b[0m\n\u001b[1;32m    134\u001b[0m \u001b[38;5;28;01mtry\u001b[39;00m:\n\u001b[0;32m--> 135\u001b[0m     controller \u001b[38;5;241m=\u001b[39m \u001b[43mray\u001b[49m\u001b[38;5;241;43m.\u001b[39;49m\u001b[43mget_actor\u001b[49m\u001b[43m(\u001b[49m\u001b[43mcontroller_name\u001b[49m\u001b[43m,\u001b[49m\u001b[43m \u001b[49m\u001b[43mnamespace\u001b[49m\u001b[38;5;241;43m=\u001b[39;49m\u001b[43mSERVE_NAMESPACE\u001b[49m\u001b[43m)\u001b[49m\n\u001b[1;32m    136\u001b[0m \u001b[38;5;28;01mexcept\u001b[39;00m \u001b[38;5;167;01mValueError\u001b[39;00m:\n",
      "File \u001b[0;32m/opt/conda/lib/python3.10/site-packages/ray/_private/auto_init_hook.py:24\u001b[0m, in \u001b[0;36mwrap_auto_init.<locals>.auto_init_wrapper\u001b[0;34m(*args, **kwargs)\u001b[0m\n\u001b[1;32m     23\u001b[0m auto_init_ray()\n\u001b[0;32m---> 24\u001b[0m \u001b[38;5;28;01mreturn\u001b[39;00m \u001b[43mfn\u001b[49m\u001b[43m(\u001b[49m\u001b[38;5;241;43m*\u001b[39;49m\u001b[43margs\u001b[49m\u001b[43m,\u001b[49m\u001b[43m \u001b[49m\u001b[38;5;241;43m*\u001b[39;49m\u001b[38;5;241;43m*\u001b[39;49m\u001b[43mkwargs\u001b[49m\u001b[43m)\u001b[49m\n",
      "File \u001b[0;32m/opt/conda/lib/python3.10/site-packages/ray/_private/client_mode_hook.py:102\u001b[0m, in \u001b[0;36mclient_mode_hook.<locals>.wrapper\u001b[0;34m(*args, **kwargs)\u001b[0m\n\u001b[1;32m    101\u001b[0m     \u001b[38;5;28;01mif\u001b[39;00m func\u001b[38;5;241m.\u001b[39m\u001b[38;5;18m__name__\u001b[39m \u001b[38;5;241m!=\u001b[39m \u001b[38;5;124m\"\u001b[39m\u001b[38;5;124minit\u001b[39m\u001b[38;5;124m\"\u001b[39m \u001b[38;5;129;01mor\u001b[39;00m is_client_mode_enabled_by_default:\n\u001b[0;32m--> 102\u001b[0m         \u001b[38;5;28;01mreturn\u001b[39;00m \u001b[38;5;28;43mgetattr\u001b[39;49m\u001b[43m(\u001b[49m\u001b[43mray\u001b[49m\u001b[43m,\u001b[49m\u001b[43m \u001b[49m\u001b[43mfunc\u001b[49m\u001b[38;5;241;43m.\u001b[39;49m\u001b[38;5;18;43m__name__\u001b[39;49m\u001b[43m)\u001b[49m\u001b[43m(\u001b[49m\u001b[38;5;241;43m*\u001b[39;49m\u001b[43margs\u001b[49m\u001b[43m,\u001b[49m\u001b[43m \u001b[49m\u001b[38;5;241;43m*\u001b[39;49m\u001b[38;5;241;43m*\u001b[39;49m\u001b[43mkwargs\u001b[49m\u001b[43m)\u001b[49m\n\u001b[1;32m    103\u001b[0m \u001b[38;5;28;01mreturn\u001b[39;00m func(\u001b[38;5;241m*\u001b[39margs, \u001b[38;5;241m*\u001b[39m\u001b[38;5;241m*\u001b[39mkwargs)\n",
      "File \u001b[0;32m/opt/conda/lib/python3.10/site-packages/ray/util/client/api.py:140\u001b[0m, in \u001b[0;36m_ClientAPI.get_actor\u001b[0;34m(self, name, namespace)\u001b[0m\n\u001b[1;32m    134\u001b[0m \u001b[38;5;250m\u001b[39m\u001b[38;5;124;03m\"\"\"Returns a handle to an actor by name.\u001b[39;00m\n\u001b[1;32m    135\u001b[0m \n\u001b[1;32m    136\u001b[0m \u001b[38;5;124;03mArgs:\u001b[39;00m\n\u001b[1;32m    137\u001b[0m \u001b[38;5;124;03m    name: The name passed to this actor by\u001b[39;00m\n\u001b[1;32m    138\u001b[0m \u001b[38;5;124;03m      Actor.options(name=\"name\").remote()\u001b[39;00m\n\u001b[1;32m    139\u001b[0m \u001b[38;5;124;03m\"\"\"\u001b[39;00m\n\u001b[0;32m--> 140\u001b[0m \u001b[38;5;28;01mreturn\u001b[39;00m \u001b[38;5;28;43mself\u001b[39;49m\u001b[38;5;241;43m.\u001b[39;49m\u001b[43mworker\u001b[49m\u001b[38;5;241;43m.\u001b[39;49m\u001b[43mget_actor\u001b[49m\u001b[43m(\u001b[49m\u001b[43mname\u001b[49m\u001b[43m,\u001b[49m\u001b[43m \u001b[49m\u001b[43mnamespace\u001b[49m\u001b[43m)\u001b[49m\n",
      "File \u001b[0;32m/opt/conda/lib/python3.10/site-packages/ray/util/client/worker.py:674\u001b[0m, in \u001b[0;36mWorker.get_actor\u001b[0;34m(self, name, namespace)\u001b[0m\n\u001b[1;32m    671\u001b[0m \u001b[38;5;66;03m# `actor_ref.is_nil()` waits until the underlying ID is resolved.\u001b[39;00m\n\u001b[1;32m    672\u001b[0m \u001b[38;5;66;03m# This is needed because `get_actor` is often used to check the\u001b[39;00m\n\u001b[1;32m    673\u001b[0m \u001b[38;5;66;03m# existence of an actor.\u001b[39;00m\n\u001b[0;32m--> 674\u001b[0m \u001b[38;5;28;01mif\u001b[39;00m \u001b[43mhandle\u001b[49m\u001b[38;5;241;43m.\u001b[39;49m\u001b[43mactor_ref\u001b[49m\u001b[38;5;241;43m.\u001b[39;49m\u001b[43mis_nil\u001b[49m\u001b[43m(\u001b[49m\u001b[43m)\u001b[49m:\n\u001b[1;32m    675\u001b[0m     \u001b[38;5;28;01mraise\u001b[39;00m \u001b[38;5;167;01mValueError\u001b[39;00m(\u001b[38;5;124mf\u001b[39m\u001b[38;5;124m\"\u001b[39m\u001b[38;5;124mActorID for \u001b[39m\u001b[38;5;132;01m{\u001b[39;00mname\u001b[38;5;132;01m}\u001b[39;00m\u001b[38;5;124m is empty\u001b[39m\u001b[38;5;124m\"\u001b[39m)\n",
      "File \u001b[0;32m/opt/conda/lib/python3.10/site-packages/ray/util/client/common.py:230\u001b[0m, in \u001b[0;36mClientActorRef.is_nil\u001b[0;34m(self)\u001b[0m\n\u001b[1;32m    229\u001b[0m \u001b[38;5;28;01mdef\u001b[39;00m \u001b[38;5;21mis_nil\u001b[39m(\u001b[38;5;28mself\u001b[39m):\n\u001b[0;32m--> 230\u001b[0m     \u001b[38;5;28;43mself\u001b[39;49m\u001b[38;5;241;43m.\u001b[39;49m\u001b[43m_wait_for_id\u001b[49m\u001b[43m(\u001b[49m\u001b[43m)\u001b[49m\n\u001b[1;32m    231\u001b[0m     \u001b[38;5;28;01mreturn\u001b[39;00m \u001b[38;5;28msuper\u001b[39m()\u001b[38;5;241m.\u001b[39mis_nil()\n",
      "File \u001b[0;32m/opt/conda/lib/python3.10/site-packages/ray/util/client/common.py:249\u001b[0m, in \u001b[0;36mClientActorRef._wait_for_id\u001b[0;34m(self, timeout)\u001b[0m\n\u001b[1;32m    248\u001b[0m \u001b[38;5;28;01mif\u001b[39;00m \u001b[38;5;28mself\u001b[39m\u001b[38;5;241m.\u001b[39m_id_future:\n\u001b[0;32m--> 249\u001b[0m     \u001b[38;5;28mself\u001b[39m\u001b[38;5;241m.\u001b[39m_set_id(\u001b[38;5;28;43mself\u001b[39;49m\u001b[38;5;241;43m.\u001b[39;49m\u001b[43m_id_future\u001b[49m\u001b[38;5;241;43m.\u001b[39;49m\u001b[43mresult\u001b[49m\u001b[43m(\u001b[49m\u001b[43mtimeout\u001b[49m\u001b[38;5;241;43m=\u001b[39;49m\u001b[43mtimeout\u001b[49m\u001b[43m)\u001b[49m)\n\u001b[1;32m    250\u001b[0m     \u001b[38;5;28mself\u001b[39m\u001b[38;5;241m.\u001b[39m_id_future \u001b[38;5;241m=\u001b[39m \u001b[38;5;28;01mNone\u001b[39;00m\n",
      "File \u001b[0;32m/opt/conda/lib/python3.10/concurrent/futures/_base.py:458\u001b[0m, in \u001b[0;36mFuture.result\u001b[0;34m(self, timeout)\u001b[0m\n\u001b[1;32m    457\u001b[0m \u001b[38;5;28;01melif\u001b[39;00m \u001b[38;5;28mself\u001b[39m\u001b[38;5;241m.\u001b[39m_state \u001b[38;5;241m==\u001b[39m FINISHED:\n\u001b[0;32m--> 458\u001b[0m     \u001b[38;5;28;01mreturn\u001b[39;00m \u001b[38;5;28;43mself\u001b[39;49m\u001b[38;5;241;43m.\u001b[39;49m\u001b[43m__get_result\u001b[49m\u001b[43m(\u001b[49m\u001b[43m)\u001b[49m\n\u001b[1;32m    459\u001b[0m \u001b[38;5;28;01melse\u001b[39;00m:\n",
      "File \u001b[0;32m/opt/conda/lib/python3.10/concurrent/futures/_base.py:403\u001b[0m, in \u001b[0;36mFuture.__get_result\u001b[0;34m(self)\u001b[0m\n\u001b[1;32m    402\u001b[0m \u001b[38;5;28;01mtry\u001b[39;00m:\n\u001b[0;32m--> 403\u001b[0m     \u001b[38;5;28;01mraise\u001b[39;00m \u001b[38;5;28mself\u001b[39m\u001b[38;5;241m.\u001b[39m_exception\n\u001b[1;32m    404\u001b[0m \u001b[38;5;28;01mfinally\u001b[39;00m:\n\u001b[1;32m    405\u001b[0m     \u001b[38;5;66;03m# Break a reference cycle with the exception in self._exception\u001b[39;00m\n",
      "\u001b[0;31mValueError\u001b[0m: Failed to look up actor with name 'SERVE_CONTROLLER_ACTOR'. This could because 1. You are trying to look up a named actor you didn't create. 2. The named actor died. 3. You did not use a namespace matching the namespace of the actor.",
      "\nDuring handling of the above exception, another exception occurred:\n",
      "\u001b[0;31mRayServeException\u001b[0m                         Traceback (most recent call last)",
      "Cell \u001b[0;32mIn[28], line 1\u001b[0m\n\u001b[0;32m----> 1\u001b[0m \u001b[43mserve\u001b[49m\u001b[38;5;241;43m.\u001b[39;49m\u001b[43mlist_deployments\u001b[49m\u001b[43m(\u001b[49m\u001b[43m)\u001b[49m\n",
      "File \u001b[0;32m/opt/conda/lib/python3.10/site-packages/ray/serve/api.py:476\u001b[0m, in \u001b[0;36mlist_deployments\u001b[0;34m()\u001b[0m\n\u001b[1;32m    471\u001b[0m \u001b[38;5;250m\u001b[39m\u001b[38;5;124;03m\"\"\"Returns a dictionary of all active deployments.\u001b[39;00m\n\u001b[1;32m    472\u001b[0m \n\u001b[1;32m    473\u001b[0m \u001b[38;5;124;03mDictionary maps deployment name to Deployment objects.\u001b[39;00m\n\u001b[1;32m    474\u001b[0m \u001b[38;5;124;03m\"\"\"\u001b[39;00m\n\u001b[1;32m    475\u001b[0m ServeUsageTag\u001b[38;5;241m.\u001b[39mAPI_VERSION\u001b[38;5;241m.\u001b[39mrecord(\u001b[38;5;124m\"\u001b[39m\u001b[38;5;124mv1\u001b[39m\u001b[38;5;124m\"\u001b[39m)\n\u001b[0;32m--> 476\u001b[0m \u001b[38;5;28;01mreturn\u001b[39;00m \u001b[43m_private_api\u001b[49m\u001b[38;5;241;43m.\u001b[39;49m\u001b[43mlist_deployments\u001b[49m\u001b[43m(\u001b[49m\u001b[43m)\u001b[49m\n",
      "File \u001b[0;32m/opt/conda/lib/python3.10/site-packages/ray/serve/_private/api.py:77\u001b[0m, in \u001b[0;36mlist_deployments\u001b[0;34m()\u001b[0m\n\u001b[1;32m     72\u001b[0m \u001b[38;5;28;01mdef\u001b[39;00m \u001b[38;5;21mlist_deployments\u001b[39m() \u001b[38;5;241m-\u001b[39m\u001b[38;5;241m>\u001b[39m Dict[\u001b[38;5;28mstr\u001b[39m, Deployment]:\n\u001b[1;32m     73\u001b[0m \u001b[38;5;250m    \u001b[39m\u001b[38;5;124;03m\"\"\"Returns a dictionary of all active 1.x deployments.\u001b[39;00m\n\u001b[1;32m     74\u001b[0m \n\u001b[1;32m     75\u001b[0m \u001b[38;5;124;03m    Dictionary maps deployment name to Deployment objects.\u001b[39;00m\n\u001b[1;32m     76\u001b[0m \u001b[38;5;124;03m    \"\"\"\u001b[39;00m\n\u001b[0;32m---> 77\u001b[0m     infos \u001b[38;5;241m=\u001b[39m \u001b[43m_get_global_client\u001b[49m\u001b[43m(\u001b[49m\u001b[43m)\u001b[49m\u001b[38;5;241m.\u001b[39mlist_deployments_v1()\n\u001b[1;32m     79\u001b[0m     deployments \u001b[38;5;241m=\u001b[39m {}\n\u001b[1;32m     80\u001b[0m     \u001b[38;5;28;01mfor\u001b[39;00m name, (deployment_info, route_prefix) \u001b[38;5;129;01min\u001b[39;00m infos\u001b[38;5;241m.\u001b[39mitems():\n",
      "File \u001b[0;32m/opt/conda/lib/python3.10/site-packages/ray/serve/context.py:75\u001b[0m, in \u001b[0;36m_get_global_client\u001b[0;34m(_health_check_controller, raise_if_no_controller_running)\u001b[0m\n\u001b[1;32m     72\u001b[0m     logger\u001b[38;5;241m.\u001b[39minfo(\u001b[38;5;124m\"\u001b[39m\u001b[38;5;124mThe cached controller has died. Reconnecting.\u001b[39m\u001b[38;5;124m\"\u001b[39m)\n\u001b[1;32m     73\u001b[0m     _set_global_client(\u001b[38;5;28;01mNone\u001b[39;00m)\n\u001b[0;32m---> 75\u001b[0m \u001b[38;5;28;01mreturn\u001b[39;00m \u001b[43m_connect\u001b[49m\u001b[43m(\u001b[49m\u001b[43mraise_if_no_controller_running\u001b[49m\u001b[43m)\u001b[49m\n",
      "File \u001b[0;32m/opt/conda/lib/python3.10/site-packages/ray/serve/context.py:138\u001b[0m, in \u001b[0;36m_connect\u001b[0;34m(raise_if_no_controller_running)\u001b[0m\n\u001b[1;32m    136\u001b[0m \u001b[38;5;28;01mexcept\u001b[39;00m \u001b[38;5;167;01mValueError\u001b[39;00m:\n\u001b[1;32m    137\u001b[0m     \u001b[38;5;28;01mif\u001b[39;00m raise_if_no_controller_running:\n\u001b[0;32m--> 138\u001b[0m         \u001b[38;5;28;01mraise\u001b[39;00m RayServeException(\n\u001b[1;32m    139\u001b[0m             \u001b[38;5;124m\"\u001b[39m\u001b[38;5;124mThere is no Serve instance running on this Ray cluster.\u001b[39m\u001b[38;5;124m\"\u001b[39m\n\u001b[1;32m    140\u001b[0m         )\n\u001b[1;32m    141\u001b[0m     \u001b[38;5;28;01mreturn\u001b[39;00m\n\u001b[1;32m    143\u001b[0m client \u001b[38;5;241m=\u001b[39m ServeControllerClient(\n\u001b[1;32m    144\u001b[0m     controller,\n\u001b[1;32m    145\u001b[0m     controller_name,\n\u001b[1;32m    146\u001b[0m     detached\u001b[38;5;241m=\u001b[39m\u001b[38;5;28;01mTrue\u001b[39;00m,\n\u001b[1;32m    147\u001b[0m )\n",
      "\u001b[0;31mRayServeException\u001b[0m: There is no Serve instance running on this Ray cluster."
     ]
    }
   ],
   "source": [
    " serve.list_deployments()"
   ]
  },
  {
   "cell_type": "code",
   "execution_count": 34,
   "id": "424dac77-782a-4357-be55-174a6f7835ad",
   "metadata": {},
   "outputs": [],
   "source": [
    "ray.shutdown()"
   ]
  },
  {
   "cell_type": "code",
   "execution_count": 30,
   "id": "f67915a2-08ac-4b8c-b5a7-713baa71836a",
   "metadata": {},
   "outputs": [
    {
     "name": "stderr",
     "output_type": "stream",
     "text": [
      "The new client HTTP config differs from the existing one in the following fields: ['host', 'location']. The new HTTP config is ignored.\n",
      "\u001b[2m\u001b[36m(ServeController pid=4311)\u001b[0m INFO 2023-09-26 12:54:40,327 controller 4311 deployment_state.py:1389 - Deploying new version of deployment MostBasicIngress in application 'default'.\n",
      "\u001b[2m\u001b[36m(ServeController pid=4311)\u001b[0m INFO 2023-09-26 12:54:40,430 controller 4311 deployment_state.py:1678 - Adding 1 replica to deployment MostBasicIngress in application 'default'.\n",
      "2023-09-26 19:54:44,366\tINFO router.py:1132 -- Using router <class 'ray.serve._private.router.PowerOfTwoChoicesReplicaScheduler'>.\n",
      "2023-09-26 19:54:44,383\tINFO router.py:473 -- Got updated replicas for deployment 'MostBasicIngress' in application 'default': {'default#MostBasicIngress#emYJdw'}.\n"
     ]
    },
    {
     "data": {
      "text/plain": [
       "RayServeSyncHandle(deployment='MostBasicIngress')"
      ]
     },
     "execution_count": 30,
     "metadata": {},
     "output_type": "execute_result"
    }
   ],
   "source": [
    "@serve.deployment\n",
    "class MostBasicIngress:\n",
    "    async def __call__(self, request: Request) -> str:\n",
    "        name = (await request.json())[\"name\"]\n",
    "        return f\"Hello {name}!\"\n",
    "\n",
    "\n",
    "app = MostBasicIngress.bind()\n",
    "serve.run(app)"
   ]
  },
  {
   "cell_type": "code",
   "execution_count": 31,
   "id": "a95dbd1e-9728-4055-8f64-668ceb4c03d6",
   "metadata": {},
   "outputs": [
    {
     "name": "stderr",
     "output_type": "stream",
     "text": [
      "\u001b[2m\u001b[36m(ServeReplica:default:MostBasicIngress pid=4388)\u001b[0m INFO 2023-09-26 12:54:50,816 MostBasicIngress default#MostBasicIngress#emYJdw 433c08f9-eeca-42ae-8fc9-26ccbf03ac96 / default replica.py:746 - __CALL__ OK 5.8ms\n"
     ]
    }
   ],
   "source": [
    "assert (\n",
    "    requests.get(\"http://10.3.5.35:8000/\", json={\"name\": \"Corey\"}).text\n",
    "    == \"Hello Corey!\"\n",
    ")"
   ]
  },
  {
   "cell_type": "code",
   "execution_count": 32,
   "id": "6d40cc91-d615-46d8-b760-3c9c1d8758d6",
   "metadata": {},
   "outputs": [
    {
     "data": {
      "text/plain": [
       "'Hello Corey!'"
      ]
     },
     "execution_count": 32,
     "metadata": {},
     "output_type": "execute_result"
    },
    {
     "name": "stderr",
     "output_type": "stream",
     "text": [
      "\u001b[2m\u001b[36m(ServeReplica:default:MostBasicIngress pid=4388)\u001b[0m INFO 2023-09-26 12:55:06,193 MostBasicIngress default#MostBasicIngress#emYJdw 133e4be2-8e86-4521-ae4e-38a79a647ec5 / default replica.py:746 - __CALL__ OK 2.4ms\n"
     ]
    }
   ],
   "source": [
    "requests.get(\"http://10.3.5.35:8000/\", json={\"name\": \"Corey\"}).text"
   ]
  },
  {
   "cell_type": "code",
   "execution_count": null,
   "id": "d70d1fb4-c180-4f7f-8c5a-8531264533dd",
   "metadata": {},
   "outputs": [],
   "source": []
  }
 ],
 "metadata": {
  "environment": {
   "kernel": "conda-root-py",
   "name": "workbench-notebooks.m111",
   "type": "gcloud",
   "uri": "gcr.io/deeplearning-platform-release/workbench-notebooks:m111"
  },
  "kernelspec": {
   "display_name": "ray",
   "language": "python",
   "name": "python3"
  },
  "language_info": {
   "codemirror_mode": {
    "name": "ipython",
    "version": 3
   },
   "file_extension": ".py",
   "mimetype": "text/x-python",
   "name": "python",
   "nbconvert_exporter": "python",
   "pygments_lexer": "ipython3",
   "version": "3.10.13"
  }
 },
 "nbformat": 4,
 "nbformat_minor": 5
}
